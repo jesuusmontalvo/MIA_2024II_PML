{
 "cells": [
  {
   "cell_type": "markdown",
   "metadata": {
    "id": "gfHgoHjLMN9g"
   },
   "source": [
    "# Examen Parcial de Programación para Machine Learning"
   ]
  },
  {
   "cell_type": "markdown",
   "metadata": {
    "id": "uFQDk_LMMN9h"
   },
   "source": [
    "Instrucciones:\n",
    "* Por favor, complete las tareas de este notebook. Deberá enviar este notebook, así como una versión en PDF, a la plataforma Univirtual.\n",
    "* Para crear el PDF, vaya a Archivo > Descargar como. Puede exportar a PDF mediante Latex, o exportar a HTML y luego imprimir a PDF.\n",
    "* Añada una explicación clara de su enfoque y una interpretación detallada de sus resultados para cada subpregunta. Para ello, utilice celdas Markdown.\n",
    "\n",
    "* Añada a continuación los nombres de todos los miembros del equipo."
   ]
  },
  {
   "cell_type": "markdown",
   "metadata": {
    "id": "u0NpwHJ3MN9i"
   },
   "source": [
    "**Integrantes:**\n",
    "\n",
    "1.   Integrante 1: Josiel Corbera Terrones\n",
    "2.   Integrante 2: Jesús Fernando Montalvo Olazabal\n",
    "3.   Integrante 3: Alex Munive Mendoza\n",
    "4.   Integrante 4: Smith Vera Reyes\n",
    "5.   Integrante 5: Raúl Rivas Jiménez\n",
    "6.   Integrante 6: "
   ]
  },
  {
   "cell_type": "markdown",
   "metadata": {
    "id": "tr1nFcXdMN9i"
   },
   "source": [
    "# 1. NUMPY -MATPLOTLIB\n",
    "\n",
    "En esta tarea aprenderás e implementarás [Cadenas de Markov](https://en.wikipedia.org/wiki/Markov_chain), si nunca has oído hablar de ellas, no te preocupes, este notebook te explicará todo lo necesario para la tarea.\n",
    "\n",
    "## Cadenas de Markov\n",
    "La mejor manera de introducir lo que es una cadena de Markov es con un ejemplo sencillo. Supongamos que tienes un contador sencillo que puedes ajustar a cualquier número entre 1 y 10 (incluyendo 1 y 10). En cada paso se lanza un dado estándar de 6 caras y, dependiendo de si el número obtenido es par o impar, se incrementa o disminuye el contador. Si tratas de incrementar a 10, digamos que se desplaza alrededor de 0 y de manera similar para tratar de disminuir a 0. Ahora puedes jugar este juego para múltiples pasos y registrar el valor del contador después de cada paso, esto es sólo una simple cadena de Markov.\n",
    "\n",
    "He aquí un ejemplo de evolución de la cadena de markov,\n",
    "Empieza con el contador a 1.\n",
    "- Paso 1 : Sacas un 4, es par así que incrementa el contador a 2.\n",
    "- Paso 2 : Sacas un 2, es par así que incrementa el contador a 3.\n",
    "- Paso 3 : Sacas un 5, es impar asi que decrementa el contador a 2.\n",
    "\n",
    "etc.\n",
    "\n",
    "Una cadena de Markov consiste en un conjunto de n estados (en nuestro ejemplo, los 10 estados del contador) y una regla probabilística para saltar a otro estado en cada paso (las tiradas de dados). Aunque en nuestro sencillo ejemplo teníamos una regla similar para cada estado, puedes tener una regla diferente para cada estado. Por ejemplo puedes decir que si el contador es impar, no lances un dado, siempre incrementa, y sigue el dado para estados pares. La regla es siempre en forma de n probabilidades que suman uno. Cada probabilidad indica la posibilidad de que salte a ese estado.\n",
    "\n",
    "En nuestro ejemplo la regla para el estado 1 puede ser representada por este vector numpy\n",
    "\n"
   ]
  },
  {
   "cell_type": "code",
   "execution_count": 1,
   "metadata": {
    "execution": {
     "iopub.execute_input": "2024-12-04T19:49:26.307229Z",
     "iopub.status.busy": "2024-12-04T19:49:26.306156Z",
     "iopub.status.idle": "2024-12-04T19:49:26.340928Z",
     "shell.execute_reply": "2024-12-04T19:49:26.339959Z",
     "shell.execute_reply.started": "2024-12-04T19:49:26.307175Z"
    },
    "id": "teuYty5kMN9i"
   },
   "outputs": [
    {
     "data": {
      "text/plain": [
       "array([0. , 0.5, 0. , 0. , 0. , 0. , 0. , 0. , 0. , 0.5])"
      ]
     },
     "execution_count": 1,
     "metadata": {},
     "output_type": "execute_result"
    }
   ],
   "source": [
    "import numpy as np\n",
    "np.array([0. , 0.5, 0. , 0. , 0. , 0. , 0. , 0. , 0. , 0.5])"
   ]
  },
  {
   "cell_type": "markdown",
   "metadata": {
    "id": "w2kAXYGSMN9j"
   },
   "source": [
    "El índice en el array representa el estado y el valor representa la probabilidad con la que saltará a ese estado. De forma similar, ésta es la regla para el estado 5"
   ]
  },
  {
   "cell_type": "code",
   "execution_count": 2,
   "metadata": {
    "execution": {
     "iopub.execute_input": "2024-12-04T19:49:26.342829Z",
     "iopub.status.busy": "2024-12-04T19:49:26.342449Z",
     "iopub.status.idle": "2024-12-04T19:49:26.349969Z",
     "shell.execute_reply": "2024-12-04T19:49:26.349153Z",
     "shell.execute_reply.started": "2024-12-04T19:49:26.342787Z"
    },
    "id": "guAAqu1RMN9j"
   },
   "outputs": [
    {
     "data": {
      "text/plain": [
       "array([0. , 0. , 0. , 0.5, 0. , 0.5, 0. , 0. , 0. , 0. ])"
      ]
     },
     "execution_count": 2,
     "metadata": {},
     "output_type": "execute_result"
    }
   ],
   "source": [
    "np.array([0. , 0. , 0. , 0.5, 0. , 0.5, 0. , 0. , 0. , 0. ])"
   ]
  },
  {
   "cell_type": "markdown",
   "metadata": {
    "id": "oXrcyhlbMN9j"
   },
   "source": [
    "## Matriz de transición\n",
    "\n",
    "La forma de representar las cadenas de markov es con una matriz de transición $T$ de tamaño (n,n), donde la columna i será el vector de reglas para el estado i ( Aquí estamos suponiendo que los estados se numeran de 0 a n-1 ).\n",
    "\n",
    "Así se puede interpretar el elemento $T_{ij}$ de la matriz como la probabilidad de saltar al estado i desde el estado j."
   ]
  },
  {
   "cell_type": "markdown",
   "metadata": {
    "id": "b_zdApGqMN9j"
   },
   "source": [
    "## Pregunta 1 (1.25 puntos)\n",
    "\n",
    "Escriba una función que devuelva la matriz de transición de la siguiente cadena de markov, dado el número de estados como argumento.\n",
    "\n",
    "La regla de la cadena de markov es la siguiente,\n",
    "\n",
    "Si el estado actual es i\n",
    "1. Con probabilidad 0.8, pasa al estado i+1\n",
    "2. Con probabilidad 0,2, vuelve al estado i = 0.\n",
    "3. En el estado n-1, como no puede subir más, con probabilidad 1 se queda en el mismo estado de n-1.\n",
    "\n",
    "Intuitivamente, esta cadena de Markov se comporta de la siguiente manera, en cada paso hay un 80% de probabilidad de que suba 1 y un 20% de probabilidad de que caiga completamente, sin embargo, si llega al estado final n-1, se queda allí para siempre.\n",
    "\n",
    "En esta pregunta **no** puedes utilizar ningún bucle for, en su lugar utiliza la indexación de numpy para rellenar tu matriz. Puedes asumir que n es al menos 3.\n",
    "\n",
    "Pistas:\n",
    "1. Primero escribe tu código en una celda vacía for con un valor n predefinido (hardcoded), de esta manera puedes iterar rápidamente y obtener la respuesta correcta primero. Luego cópialo en la función.\n",
    "2. Puedes usar [Array indexing](https://docs.scipy.org/doc/numpy-1.13.0/user/basics.indexing.html#index-arrays)"
   ]
  },
  {
   "cell_type": "code",
   "execution_count": 3,
   "metadata": {
    "execution": {
     "iopub.execute_input": "2024-12-04T19:49:26.351340Z",
     "iopub.status.busy": "2024-12-04T19:49:26.350963Z",
     "iopub.status.idle": "2024-12-04T19:49:26.364253Z",
     "shell.execute_reply": "2024-12-04T19:49:26.363141Z",
     "shell.execute_reply.started": "2024-12-04T19:49:26.351297Z"
    },
    "id": "KSEyB-saMN9k"
   },
   "outputs": [],
   "source": [
    "#YOUR CODE HERE\n",
    "def transition_matrix(n):\n",
    "    m = n - 1\n",
    "    matriz_transicion = np.zeros((n,n))\n",
    "    matriz_transicion[0,:m] = 0.2 * np.ones((1,m))\n",
    "    matriz_transicion[m,m] = 1\n",
    "    np.fill_diagonal(matriz_transicion[1:,:m], [0.8] * m)\n",
    "    return matriz_transicion"
   ]
  },
  {
   "cell_type": "code",
   "execution_count": 4,
   "metadata": {
    "execution": {
     "iopub.execute_input": "2024-12-04T19:49:26.367323Z",
     "iopub.status.busy": "2024-12-04T19:49:26.366489Z",
     "iopub.status.idle": "2024-12-04T19:49:26.380486Z",
     "shell.execute_reply": "2024-12-04T19:49:26.379551Z",
     "shell.execute_reply.started": "2024-12-04T19:49:26.367270Z"
    },
    "id": "d51Cj77pMN9k"
   },
   "outputs": [
    {
     "data": {
      "text/plain": [
       "array([[0.2, 0.2, 0.2, 0.2, 0.2, 0.2, 0.2, 0.2, 0.2, 0. ],\n",
       "       [0.8, 0. , 0. , 0. , 0. , 0. , 0. , 0. , 0. , 0. ],\n",
       "       [0. , 0.8, 0. , 0. , 0. , 0. , 0. , 0. , 0. , 0. ],\n",
       "       [0. , 0. , 0.8, 0. , 0. , 0. , 0. , 0. , 0. , 0. ],\n",
       "       [0. , 0. , 0. , 0.8, 0. , 0. , 0. , 0. , 0. , 0. ],\n",
       "       [0. , 0. , 0. , 0. , 0.8, 0. , 0. , 0. , 0. , 0. ],\n",
       "       [0. , 0. , 0. , 0. , 0. , 0.8, 0. , 0. , 0. , 0. ],\n",
       "       [0. , 0. , 0. , 0. , 0. , 0. , 0.8, 0. , 0. , 0. ],\n",
       "       [0. , 0. , 0. , 0. , 0. , 0. , 0. , 0.8, 0. , 0. ],\n",
       "       [0. , 0. , 0. , 0. , 0. , 0. , 0. , 0. , 0.8, 1. ]])"
      ]
     },
     "execution_count": 4,
     "metadata": {},
     "output_type": "execute_result"
    }
   ],
   "source": [
    "#TESTING\n",
    "transition_matrix(10)"
   ]
  },
  {
   "cell_type": "markdown",
   "metadata": {
    "id": "N6YHNqY_MN9k"
   },
   "source": [
    "Para probar su función , compruebe que lo anterior devuelve\n",
    "```\n",
    "array([[0.2, 0.2, 0.2, 0.2, 0.2, 0.2, 0.2, 0.2, 0.2, 0. ],\n",
    "       [0.8, 0. , 0. , 0. , 0. , 0. , 0. , 0. , 0. , 0. ],\n",
    "       [0. , 0.8, 0. , 0. , 0. , 0. , 0. , 0. , 0. , 0. ],\n",
    "       [0. , 0. , 0.8, 0. , 0. , 0. , 0. , 0. , 0. , 0. ],\n",
    "       [0. , 0. , 0. , 0.8, 0. , 0. , 0. , 0. , 0. , 0. ],\n",
    "       [0. , 0. , 0. , 0. , 0.8, 0. , 0. , 0. , 0. , 0. ],\n",
    "       [0. , 0. , 0. , 0. , 0. , 0.8, 0. , 0. , 0. , 0. ],\n",
    "       [0. , 0. , 0. , 0. , 0. , 0. , 0.8, 0. , 0. , 0. ],\n",
    "       [0. , 0. , 0. , 0. , 0. , 0. , 0. , 0.8, 0. , 0. ],\n",
    "       [0. , 0. , 0. , 0. , 0. , 0. , 0. , 0. , 0.8, 1. ]])\n",
    "```"
   ]
  },
  {
   "cell_type": "markdown",
   "metadata": {
    "id": "yM-E3pTIMN9k"
   },
   "source": [
    "## Pregunta 2 (1.25 puntos)\n",
    "\n",
    "Ahora queremos utilizar la matriz de transición para saber cuáles son las probabilidades de estar en cada estado después de ejecutar la cadena de markov durante k pasos. Por ejemplo, para la cadena de markov anterior, quiero saber después de 30 pasos, cuál es la probabilidad de que haya alcanzado el estado n-1.\n",
    "\n",
    "Por suerte, esto es bastante fácil de calcular, utilizando la multiplicación de matrices. Una propiedad sorprendentemente útil de la matriz de transición es la siguiente, si tienes el vector $p_j$ como el vector de probabilidades después del paso $j$, entonces $p_{j+1}$ viene dado por el siguiente producto vectorial de matrices.\n",
    "\n",
    "$$ p_{j+1} = Tp_j $$\n",
    "\n",
    "No vamos a demostrar este resultado aquí, pero si pasas algún tiempo pensando en lo que la multiplicación de matrices está haciendo aquí, sobre todo interpretarlo como tomar una combinación lineal de columnas, entonces debería tener sentido.\n",
    "\n",
    "Así, si alguien le da una distribución de probabilidad para el estado inicial como $ p_0 $, entonces la distribución de probabilidad después de $ k $ pasos es simplemente dado por multiplicar por la matriz de transición k veces\n",
    "\n",
    "$$ p_{k} = T^{k}p_0 $$\n",
    "\n",
    "Implemente una función que dada una distribución inicial `p0`, el número de pasos `k` y una matriz de transición `tm`, devuelva la distribución después de k pasos"
   ]
  },
  {
   "cell_type": "markdown",
   "metadata": {},
   "source": [
    "Dada que ya tenemos la fórmula iterativa para hallar la distribución de probabilidad después de $k$ pasos, la implementamos usando el módulo *np.linalg.matrix_power* y la operación *@*."
   ]
  },
  {
   "cell_type": "code",
   "execution_count": 5,
   "metadata": {
    "execution": {
     "iopub.execute_input": "2024-12-04T19:49:26.382158Z",
     "iopub.status.busy": "2024-12-04T19:49:26.381728Z",
     "iopub.status.idle": "2024-12-04T19:49:26.394680Z",
     "shell.execute_reply": "2024-12-04T19:49:26.393435Z",
     "shell.execute_reply.started": "2024-12-04T19:49:26.382111Z"
    },
    "id": "H0amMf4JMN9k"
   },
   "outputs": [],
   "source": [
    "#YOUR CODE HERE\n",
    "def propagate(p0, k, tm):\n",
    "    return np.linalg.matrix_power(tm, k) @ p0"
   ]
  },
  {
   "cell_type": "markdown",
   "metadata": {},
   "source": [
    "Testeamos el código con una matriz de transición de $10\\times 10$, estableciendo el estado inicial en $0$ y considerando $30$ pasos."
   ]
  },
  {
   "cell_type": "code",
   "execution_count": 6,
   "metadata": {
    "execution": {
     "iopub.execute_input": "2024-12-04T19:49:26.396736Z",
     "iopub.status.busy": "2024-12-04T19:49:26.396341Z",
     "iopub.status.idle": "2024-12-04T19:49:26.409803Z",
     "shell.execute_reply": "2024-12-04T19:49:26.408629Z",
     "shell.execute_reply.started": "2024-12-04T19:49:26.396690Z"
    },
    "id": "MHOT2vO7MN9k"
   },
   "outputs": [
    {
     "data": {
      "text/plain": [
       "array([0.0816156 , 0.06787354, 0.05644353, 0.04694437, 0.03904617,\n",
       "       0.03247669, 0.02701094, 0.02246264, 0.01867741, 0.6074491 ])"
      ]
     },
     "execution_count": 6,
     "metadata": {},
     "output_type": "execute_result"
    }
   ],
   "source": [
    "#TESTING\n",
    "tm = transition_matrix(10)\n",
    "p0 = np.zeros(10)\n",
    "p0[0] = 1\n",
    "pk = propagate(p0,30,tm)\n",
    "pk"
   ]
  },
  {
   "cell_type": "markdown",
   "metadata": {
    "id": "uE2fa3VUMN9k"
   },
   "source": [
    "El código debería retornar:\n",
    "\n",
    "```\n",
    "array([0.0816156 , 0.06787354, 0.05644353, 0.04694437, 0.03904617,\n",
    "       0.03247669, 0.02701094, 0.02246264, 0.01867741, 0.6074491 ])\n",
    "```"
   ]
  },
  {
   "cell_type": "markdown",
   "metadata": {
    "id": "t5mgu9aKMN9k"
   },
   "source": [
    "## Pregunta 3 (1.25 puntos)\n",
    "\n",
    "Ahora usa la función anterior para graficar (plot) las probabilidades al final de cada paso para los primeros 10 pasos en la misma gráfica.\n",
    "1. Cree una matriz de transición para n = 10\n",
    "2. Cree un vector que represente el estado inicial que se encuentra en el estado 0 con probabilidad 1.\n",
    "3. Grafique en la misma figura la distribución de probabilidad después de cada paso para 10 pasos\n",
    "4. Asegúrate de etiquetar los ejes X e Y, y dale un título al gráfico, guarda el gráfico en un archivo llamado \"qsn3.png\""
   ]
  },
  {
   "cell_type": "markdown",
   "metadata": {},
   "source": [
    "### 3.1. Cree una matriz de transición para n = 10"
   ]
  },
  {
   "cell_type": "code",
   "execution_count": 7,
   "metadata": {
    "execution": {
     "iopub.execute_input": "2024-12-04T19:49:26.413275Z",
     "iopub.status.busy": "2024-12-04T19:49:26.412800Z",
     "iopub.status.idle": "2024-12-04T19:49:26.422967Z",
     "shell.execute_reply": "2024-12-04T19:49:26.422125Z",
     "shell.execute_reply.started": "2024-12-04T19:49:26.413226Z"
    },
    "id": "7sMopSD-MN9k"
   },
   "outputs": [
    {
     "data": {
      "text/plain": [
       "array([[0.2, 0.2, 0.2, 0.2, 0.2, 0.2, 0.2, 0.2, 0.2, 0. ],\n",
       "       [0.8, 0. , 0. , 0. , 0. , 0. , 0. , 0. , 0. , 0. ],\n",
       "       [0. , 0.8, 0. , 0. , 0. , 0. , 0. , 0. , 0. , 0. ],\n",
       "       [0. , 0. , 0.8, 0. , 0. , 0. , 0. , 0. , 0. , 0. ],\n",
       "       [0. , 0. , 0. , 0.8, 0. , 0. , 0. , 0. , 0. , 0. ],\n",
       "       [0. , 0. , 0. , 0. , 0.8, 0. , 0. , 0. , 0. , 0. ],\n",
       "       [0. , 0. , 0. , 0. , 0. , 0.8, 0. , 0. , 0. , 0. ],\n",
       "       [0. , 0. , 0. , 0. , 0. , 0. , 0.8, 0. , 0. , 0. ],\n",
       "       [0. , 0. , 0. , 0. , 0. , 0. , 0. , 0.8, 0. , 0. ],\n",
       "       [0. , 0. , 0. , 0. , 0. , 0. , 0. , 0. , 0.8, 1. ]])"
      ]
     },
     "execution_count": 7,
     "metadata": {},
     "output_type": "execute_result"
    }
   ],
   "source": [
    "tm = transition_matrix(10)\n",
    "tm"
   ]
  },
  {
   "cell_type": "markdown",
   "metadata": {},
   "source": [
    "### 3.2. Cree un vector que represente el estado inicial que se encuentra en el estado 0 con probabilidad 1."
   ]
  },
  {
   "cell_type": "code",
   "execution_count": 27,
   "metadata": {
    "execution": {
     "iopub.execute_input": "2024-12-04T19:49:26.424437Z",
     "iopub.status.busy": "2024-12-04T19:49:26.424140Z",
     "iopub.status.idle": "2024-12-04T19:49:26.435448Z",
     "shell.execute_reply": "2024-12-04T19:49:26.434225Z",
     "shell.execute_reply.started": "2024-12-04T19:49:26.424407Z"
    }
   },
   "outputs": [],
   "source": [
    "estado = 0\n",
    "probabilidad_estado = 1\n",
    "p0 = np.zeros(10)\n",
    "p0[estado] = probabilidad_estado"
   ]
  },
  {
   "cell_type": "markdown",
   "metadata": {},
   "source": [
    "### 3.3. Grafique en la misma figura la distribución de probabilidad después de cada paso para 10 pasos\n",
    "### 3.4. Asegúrate de etiquetar los ejes X e Y, y dale un título al gráfico, guarda el gráfico en un archivo llamado \"qsn3.png\""
   ]
  },
  {
   "cell_type": "markdown",
   "metadata": {},
   "source": [
    "Creamos un bucle para crear los gráficos"
   ]
  },
  {
   "cell_type": "code",
   "execution_count": 28,
   "metadata": {
    "execution": {
     "iopub.execute_input": "2024-12-04T19:49:26.437681Z",
     "iopub.status.busy": "2024-12-04T19:49:26.437272Z",
     "iopub.status.idle": "2024-12-04T19:49:27.290812Z",
     "shell.execute_reply": "2024-12-04T19:49:27.288716Z",
     "shell.execute_reply.started": "2024-12-04T19:49:26.437636Z"
    }
   },
   "outputs": [
    {
     "data": {
      "image/png": "[encoded data removed]",
      "text/plain": [
       "<Figure size 1200x600 with 1 Axes>"
      ]
     },
     "metadata": {},
     "output_type": "display_data"
    }
   ],
   "source": [
    "from matplotlib import pyplot as plt\n",
    "plt.figure(figsize=(12, 6))\n",
    "estados = np.arange(10)\n",
    "for paso in range(1,11):\n",
    "    pk = propagate(p0, paso, tm)\n",
    "    plt.plot(estados, pk, marker=\"o\",  label=f\"Paso {paso}\")\n",
    "\n",
    "    for i, value in enumerate(pk):\n",
    "        plt.text(estados[i], value, f\"{round(value, 2)}\", fontsize=8, ha=\"center\", va=\"bottom\")\n",
    "\n",
    "plt.title(\"Estado vs Distribución de Probabilidad\")\n",
    "plt.xlabel(\"Estado\")\n",
    "plt.ylabel(\"Distribución de probabilidad\")\n",
    "plt.legend()\n",
    "plt.savefig(\"qsn3.png\")\n",
    "plt.show()"
   ]
  },
  {
   "cell_type": "markdown",
   "metadata": {
    "id": "s4nu9hy9MN9l"
   },
   "source": [
    "## Pregunta 4 (1.75 puntos)\n",
    "### Parte a\n",
    "Utiliza las funciones que has implementado para calcular lo siguiente :\n",
    "\n",
    "¿Cuántos pasos se necesitan para que la probabilidad de estar en el estado final sea al menos 0,5?\n",
    "\n",
    "Después de cada paso la probabilidad de estar en el estado final aumenta lentamente. En algún momento esta probabilidad superará el 50%. Lo que hay que calcular es cuántos pasos hacen falta para cruzar el 50%.\n",
    "\n",
    "De nuevo, utiliza una matriz de transición n=10 y empieza en el estado 0.\n",
    "\n",
    "Pista:\n",
    "1. Use el bucle while"
   ]
  },
  {
   "cell_type": "markdown",
   "metadata": {},
   "source": [
    "Para saber la probabilidad de estar en el estado final sea al menos 0.5 consideremos la expresión \n",
    "$$ p_{k} = T^{k}p_0 $$\n",
    "el cual nos da el vector de probabilidad luego de $k$ pasos de la distribución inicial.\n",
    "\n",
    "La cantidad de pasos para que la probabilidad de estar en el estado final sea al menos 0.5 es:"
   ]
  },
  {
   "cell_type": "code",
   "execution_count": null,
   "metadata": {
    "execution": {
     "iopub.execute_input": "2024-12-04T19:49:27.292488Z",
     "iopub.status.busy": "2024-12-04T19:49:27.292034Z",
     "iopub.status.idle": "2024-12-04T19:49:27.301527Z",
     "shell.execute_reply": "2024-12-04T19:49:27.299649Z",
     "shell.execute_reply.started": "2024-12-04T19:49:27.292441Z"
    },
    "id": "rgZn8xaqMN9l"
   },
   "outputs": [
    {
     "name": "stdout",
     "output_type": "stream",
     "text": [
      "24\n"
     ]
    }
   ],
   "source": [
    "#YOUR CODE HERE\n",
    "cantidad_pasos = 1\n",
    "estado_final = 9\n",
    "while True:\n",
    "    pk = propagate(p0, cantidad_pasos, tm)\n",
    "    if pk[estado_final] > 0.5:\n",
    "        break\n",
    "    cantidad_pasos += 1\n",
    "print(cantidad_pasos)"
   ]
  },
  {
   "cell_type": "markdown",
   "metadata": {
    "id": "q4PgcqAVMN9l"
   },
   "source": [
    "### Parte b\n",
    "Convierta el código anterior en una función que calcule el número de pasos hasta el 50% de probabilidad en el estado final dado `n` el tamaño de la cadena de markov"
   ]
  },
  {
   "cell_type": "markdown",
   "metadata": {},
   "source": [
    "Encapsulamos el código anterior en una función, haciendo los siguientes cambios:\n",
    "* $m$: Estado final\n"
   ]
  },
  {
   "cell_type": "code",
   "execution_count": 34,
   "metadata": {
    "execution": {
     "iopub.execute_input": "2024-12-04T19:49:27.305523Z",
     "iopub.status.busy": "2024-12-04T19:49:27.304802Z",
     "iopub.status.idle": "2024-12-04T19:49:27.320926Z",
     "shell.execute_reply": "2024-12-04T19:49:27.319909Z",
     "shell.execute_reply.started": "2024-12-04T19:49:27.305474Z"
    },
    "id": "g2YhYuU2MN9l"
   },
   "outputs": [],
   "source": [
    "#YOUR CODE HERE\n",
    "def num_steps(n):\n",
    "    m = n - 1\n",
    "    tm = transition_matrix(n)\n",
    "    p0 = np.zeros(n)\n",
    "    p0[0] = 1\n",
    "    k = 1\n",
    "    while k >= 1:\n",
    "        pk = propagate(p0, k, tm)\n",
    "        if pk[m] > 0.5:\n",
    "            break\n",
    "        k += 1\n",
    "    return k"
   ]
  },
  {
   "cell_type": "code",
   "execution_count": 35,
   "metadata": {
    "execution": {
     "iopub.execute_input": "2024-12-04T19:49:27.322740Z",
     "iopub.status.busy": "2024-12-04T19:49:27.322350Z",
     "iopub.status.idle": "2024-12-04T19:49:27.511364Z",
     "shell.execute_reply": "2024-12-04T19:49:27.510256Z",
     "shell.execute_reply.started": "2024-12-04T19:49:27.322696Z"
    }
   },
   "outputs": [
    {
     "data": {
      "text/plain": [
       "2244"
      ]
     },
     "execution_count": 35,
     "metadata": {},
     "output_type": "execute_result"
    }
   ],
   "source": [
    "num_steps(30)"
   ]
  },
  {
   "cell_type": "markdown",
   "metadata": {
    "id": "MOzrs_xLMN9l"
   },
   "source": [
    "### Parte c\n",
    "Calcula y grafica el número de pasos necesarios para $n$ entre 10 y 40.\n",
    "\n",
    "Busca la función de trazado `plt.semilogy` y entiende lo que hace, traza otro gráfico del número de pasos utilizándola.\n",
    "\n",
    "¿Qué te dice el gráfico semilogía?\n",
    "\n",
    "Guarda los gráficos como \"qsn4c.png\" y \"qsn4c_semilogy.png\"."
   ]
  },
  {
   "cell_type": "markdown",
   "metadata": {},
   "source": [
    "### Calcula y grafica el número de pasos necesarios para $n$ entre 10 y 40.\n"
   ]
  },
  {
   "cell_type": "code",
   "execution_count": null,
   "metadata": {
    "execution": {
     "iopub.execute_input": "2024-12-04T19:49:27.513230Z",
     "iopub.status.busy": "2024-12-04T19:49:27.512779Z",
     "iopub.status.idle": "2024-12-04T19:49:40.666994Z",
     "shell.execute_reply": "2024-12-04T19:49:40.666129Z",
     "shell.execute_reply.started": "2024-12-04T19:49:27.513180Z"
    },
    "id": "YhfvFBUPMN9l"
   },
   "outputs": [],
   "source": [
    "#YOUR CODE HERE\n",
    "valores_n = np.arange(10, 41)\n",
    "numero_pasos = []\n",
    "for k in range(10, 41):\n",
    "    numero_pasos.append(num_steps(k))"
   ]
  },
  {
   "cell_type": "code",
   "execution_count": null,
   "metadata": {
    "execution": {
     "iopub.execute_input": "2024-12-04T19:49:40.668440Z",
     "iopub.status.busy": "2024-12-04T19:49:40.668135Z",
     "iopub.status.idle": "2024-12-04T19:49:41.088244Z",
     "shell.execute_reply": "2024-12-04T19:49:41.087341Z",
     "shell.execute_reply.started": "2024-12-04T19:49:40.668409Z"
    }
   },
   "outputs": [],
   "source": [
    "plt.figure(figsize=(12, 6))\n",
    "plt.plot(valores_n, numero_pasos, color=\"gray\", linestyle=\"--\")\n",
    "\n",
    "for i, value in enumerate(numero_pasos):\n",
    "    if i % 2 == 0:\n",
    "        plt.text(valores_n[i], value + 300, f\"{value}\", fontsize=\"8\", ha=\"right\", va=\"bottom\", color=\"blue\")\n",
    "        plt.plot(valores_n[i], value, marker=\"o\", color=\"blue\", linestyle=\"\")\n",
    "    else:\n",
    "        plt.text(valores_n[i], value - 500, f\"{value}\", fontsize=\"8\", ha=\"left\", va=\"top\", color=\"purple\")\n",
    "        plt.plot(valores_n[i], value, marker=\"o\", color=\"purple\", linestyle=\"\")\n",
    "\n",
    "plt.title(\"50% de probabilidad en el estado final \")\n",
    "plt.xlabel(\"n (Tamaño de la cadena de Markov)\")\n",
    "plt.ylabel(\"Número de pasos\")\n",
    "plt.savefig(\"qsn4c.png\")\n",
    "plt.show()"
   ]
  },
  {
   "cell_type": "markdown",
   "metadata": {},
   "source": [
    "### Usando la función de trazado `plt.semilogy`"
   ]
  },
  {
   "cell_type": "code",
   "execution_count": null,
   "metadata": {
    "execution": {
     "iopub.execute_input": "2024-12-04T19:49:41.089632Z",
     "iopub.status.busy": "2024-12-04T19:49:41.089350Z",
     "iopub.status.idle": "2024-12-04T19:49:41.887375Z",
     "shell.execute_reply": "2024-12-04T19:49:41.886392Z",
     "shell.execute_reply.started": "2024-12-04T19:49:41.089602Z"
    }
   },
   "outputs": [],
   "source": [
    "plt.figure(figsize=(12, 6))\n",
    "plt.semilogy(valores_n, numero_pasos, color=\"gray\", linestyle=\"--\")\n",
    "\n",
    "for i, value in enumerate(numero_pasos):\n",
    "    if i % 2 == 0:\n",
    "        plt.text(valores_n[i], value, f\"{value}  \", fontsize=8, ha=\"right\", va=\"bottom\", color=\"blue\")\n",
    "        plt.semilogy(valores_n[i], value, marker=\"o\", color=\"blue\", linestyle=\"\")\n",
    "    else:\n",
    "        plt.text(valores_n[i], value, f\"  {value}\", fontsize=8, ha=\"left\", va=\"top\", color=\"purple\")\n",
    "        plt.semilogy(valores_n[i], value, marker=\"o\", color=\"purple\", linestyle=\"\")\n",
    "\n",
    "plt.title(\"50% de probabilidad en el estado final\")\n",
    "plt.xlabel(\"n (Tamaño de la cadena de Markov)\")\n",
    "plt.ylabel(\"Número de pasos (Escala logaritmica)\")\n",
    "plt.savefig(\"qsn4c_semilogy.png\")\n",
    "plt.show()"
   ]
  },
  {
   "cell_type": "markdown",
   "metadata": {
    "id": "pqfLEfJjMN9l"
   },
   "source": [
    "## Pregunta 5 (1.25 puntos)\n",
    "\n",
    "Ahora queremos calcular también algunas evoluciones muestrales de las cadenas de markov. ¿Qué significa esto? Queremos una secuencia de estados trazada según las reglas de la cadena de markov. Por lo tanto, queremos utilizar el azar para elegir cuál es el siguiente estado. Así, cada llamada a la función devolverá una respuesta diferente, una nueva muestra.\n",
    "\n",
    "Por ejemplo, consideremos la cadena de Markov que hemos estado utilizando: sube con una probabilidad del 80% o baja a 0 en caso contrario; una vez que alcanza el último estado, se queda atascada en él. He aquí una muestra de 20 pasos.\n",
    "\n",
    "```[0, 1, 2, 3, 0, 1, 2, 3, 0, 1, 2, 3, 4, 5, 6, 7, 8, 9, 9, 9, 9]```\n",
    "\n",
    "Escribe una función que devuelva una muestra por cada llamada. Debe tomar la matriz de transición `tm`, el número de pasos `k` y un estado inicial `s0` y devolver una matriz de tamaño `k+1` de estados (incluyendo el estado inicial)."
   ]
  },
  {
   "cell_type": "code",
   "execution_count": null,
   "metadata": {
    "execution": {
     "iopub.execute_input": "2024-12-04T19:50:17.822118Z",
     "iopub.status.busy": "2024-12-04T19:50:17.821699Z",
     "iopub.status.idle": "2024-12-04T19:50:17.832685Z",
     "shell.execute_reply": "2024-12-04T19:50:17.831565Z",
     "shell.execute_reply.started": "2024-12-04T19:50:17.822053Z"
    },
    "id": "pyDGyPQwMN9l"
   },
   "outputs": [],
   "source": [
    "import numpy.random as rnd"
   ]
  },
  {
   "cell_type": "code",
   "execution_count": null,
   "metadata": {
    "execution": {
     "iopub.execute_input": "2024-12-04T20:28:28.109306Z",
     "iopub.status.busy": "2024-12-04T20:28:28.108889Z",
     "iopub.status.idle": "2024-12-04T20:28:28.116366Z",
     "shell.execute_reply": "2024-12-04T20:28:28.115284Z",
     "shell.execute_reply.started": "2024-12-04T20:28:28.109271Z"
    },
    "id": "RDYXURw4MN9l"
   },
   "outputs": [],
   "source": [
    "#YOUR CODE HERE\n",
    "def sample(tm, k, s0):\n",
    "    n = tm.shape[0]\n",
    "    p0 = np.zeros(n)\n",
    "    p0[s0] = 1\n",
    "    estados = []\n",
    "    estados.append(s0)\n",
    "    i = 1\n",
    "    while i <= k:\n",
    "        prob = tm[:,s0]\n",
    "        probabilidades = prob[prob != 0]\n",
    "        eleccion_azar = rnd.choice(probabilidades, p=probabilidades)\n",
    "        if eleccion_azar == 0.2:\n",
    "            s0 = 0\n",
    "        elif eleccion_azar == 0.8:\n",
    "            s0 += 1\n",
    "        else:\n",
    "            s0 = n -1\n",
    "        estados.append(s0)\n",
    "        i += 1\n",
    "    return estados"
   ]
  },
  {
   "cell_type": "markdown",
   "metadata": {
    "id": "AUdKNp7dMu7y"
   },
   "source": [
    "Utiliza el siguiente código para probar algunas de las muestras, muestrea 20 trayectorias de la cadena de Markov y las representa gráficamente. El gráfico debería mostrar que casi todas o todas las trayectorias habrían alcanzado el estado final al final. Guarda este gráfico como «qsn5.png»."
   ]
  },
  {
   "cell_type": "code",
   "execution_count": null,
   "metadata": {
    "execution": {
     "iopub.execute_input": "2024-12-04T20:28:33.234320Z",
     "iopub.status.busy": "2024-12-04T20:28:33.233928Z",
     "iopub.status.idle": "2024-12-04T20:28:33.595813Z",
     "shell.execute_reply": "2024-12-04T20:28:33.594792Z",
     "shell.execute_reply.started": "2024-12-04T20:28:33.234282Z"
    },
    "id": "2j3scS_gMN9l"
   },
   "outputs": [],
   "source": [
    "#TESTING\n",
    "import matplotlib.pyplot as plt\n",
    "tm = transition_matrix(10)\n",
    "k = 20\n",
    "s0 = 0\n",
    "plt.figure(figsize=(12, 6))\n",
    "for i in range(20):\n",
    "    states = sample(tm, 100, s0)\n",
    "    plt.plot(states)\n",
    "\n",
    "plt.savefig(\"qsn5.png\")"
   ]
  },
  {
   "cell_type": "markdown",
   "metadata": {
    "id": "F68YeDMNMW58"
   },
   "source": [
    "## Pregunta 6 (1.5 puntos)\n",
    "\n",
    "Dado que los estados se incrementan aproximadamente en 1 o caen a 0, queremos saber cómo es el ritmo de progreso en promedio.\n",
    "\n",
    "1. Crea una matriz de transición para n = 25\n",
    "2. Muestrea 1000 trayectorias de 100 pasos usando la función de muestreo que escribiste anteriormente.\n",
    "3. Calcula el estado medio (sobre las 1000 muestras) en cada paso de tiempo.\n",
    "4. Grafica el estado promedio vs pasos de tiempo y guardalo como «qsn6.png».\n",
    "\n",
    "Sugerencias:\n",
    "1. Deberías ver un gráfico en el que la media sube rápidamente y luego aumenta lentamente hasta el final.\n"
   ]
  },
  {
   "cell_type": "markdown",
   "metadata": {},
   "source": [
    "### 6.1. Crea una matriz de transición para n = 25"
   ]
  },
  {
   "cell_type": "code",
   "execution_count": null,
   "metadata": {
    "execution": {
     "iopub.execute_input": "2024-12-04T20:28:46.807154Z",
     "iopub.status.busy": "2024-12-04T20:28:46.806728Z",
     "iopub.status.idle": "2024-12-04T20:28:46.812131Z",
     "shell.execute_reply": "2024-12-04T20:28:46.811111Z",
     "shell.execute_reply.started": "2024-12-04T20:28:46.807117Z"
    },
    "id": "f4IRufolNBy6"
   },
   "outputs": [],
   "source": [
    "#YOUR CODE HERE\n",
    "tm = transition_matrix(25)"
   ]
  },
  {
   "cell_type": "markdown",
   "metadata": {},
   "source": [
    "### 6.2. Muestrea 1000 trayectorias de 100 pasos usando la función de muestreo que escribiste anteriormente."
   ]
  },
  {
   "cell_type": "code",
   "execution_count": null,
   "metadata": {
    "execution": {
     "iopub.execute_input": "2024-12-04T20:58:32.088211Z",
     "iopub.status.busy": "2024-12-04T20:58:32.087831Z",
     "iopub.status.idle": "2024-12-04T20:58:34.676916Z",
     "shell.execute_reply": "2024-12-04T20:58:34.676013Z",
     "shell.execute_reply.started": "2024-12-04T20:58:32.088174Z"
    }
   },
   "outputs": [],
   "source": [
    "k = 100\n",
    "s0 = 0\n",
    "trayectorias = []\n",
    "for _ in range(1000):\n",
    "    trayectorias.append(sample(tm, k, s0))\n",
    "trayectorias_array = np.array(trayectorias)"
   ]
  },
  {
   "cell_type": "markdown",
   "metadata": {},
   "source": [
    "### 6.3. Calcula el estado medio (sobre las 1000 muestras) en cada paso de tiempo."
   ]
  },
  {
   "cell_type": "code",
   "execution_count": null,
   "metadata": {
    "execution": {
     "iopub.execute_input": "2024-12-04T21:01:28.785006Z",
     "iopub.status.busy": "2024-12-04T21:01:28.784147Z",
     "iopub.status.idle": "2024-12-04T21:01:28.792304Z",
     "shell.execute_reply": "2024-12-04T21:01:28.791140Z",
     "shell.execute_reply.started": "2024-12-04T21:01:28.784958Z"
    }
   },
   "outputs": [],
   "source": [
    "estados_medios = []\n",
    "for k in range(101):\n",
    "    estados_medios.append(np.mean(trayectorias_array[:,k]))"
   ]
  },
  {
   "cell_type": "markdown",
   "metadata": {},
   "source": [
    "### 6.4. Grafica el estado promedio vs pasos de tiempo y guardalo como «qsn6.png»."
   ]
  },
  {
   "cell_type": "code",
   "execution_count": null,
   "metadata": {
    "execution": {
     "iopub.execute_input": "2024-12-04T21:30:10.272744Z",
     "iopub.status.busy": "2024-12-04T21:30:10.272169Z",
     "iopub.status.idle": "2024-12-04T21:30:10.465176Z",
     "shell.execute_reply": "2024-12-04T21:30:10.464208Z",
     "shell.execute_reply.started": "2024-12-04T21:30:10.272707Z"
    }
   },
   "outputs": [],
   "source": [
    "plt.figure(figsize=(12, 6))\n",
    "plt.plot(estados_medios, marker=\"o\", markersize=\"4\", linewidth=\"1\")\n",
    "plt.xlabel(\"Pasos de tiempo\")\n",
    "plt.ylabel(\"Estado Promedio\")\n",
    "plt.savefig(\"qsn6.png\")\n",
    "plt.show()\n",
    "\n"
   ]
  },
  {
   "cell_type": "markdown",
   "metadata": {
    "id": "uDKGF4ndOK5e"
   },
   "source": [
    "## Pregunta 7 (2 puntos)\n",
    "Ahora queremos verificar si nuestra implementación del muestreo es consistente con nuestra implementación del cálculo de la distribución de probabilidad.\n",
    "\n",
    "1. Crear una matriz de transición para n = 25\n",
    "2. Muestree 1000 trayectorias de 100 pasos utilizando la función de muestreo que escribió anteriormente, registre el último estado para cada trayectoria en una lista separada.\n",
    "3. Muestra un histograma de los estados finales\n",
    "4. Utiliza la función `propagate` que escribiste para calcular la distribución teórica después de 100 pasos\n",
    "5. Muestra la distribución esperada en el mismo gráfico y comprueba que coincide con el histograma.\n",
    "6. Guarda el gráfico como «qsn7.png».\n",
    "\n",
    "Sugerencias:\n",
    "1. Para el histograma puede configurar manualmente los \"bins\" para que haya un \"bin\" para cada estado. Para ello, establezca los límites de los contenedores en ... 2.5, 3.5, ... De esta forma, el estado 3 tendrá un bin entre 2,5 y 3,5.\n",
    "\n",
    "2. La función propagar devuelve una distribución de probabilidad, es necesario multiplicarla por el número de muestras para que sea comparable con el histograma.\n"
   ]
  },
  {
   "cell_type": "markdown",
   "metadata": {},
   "source": [
    "### 7.1. Crear una matriz de transición para n = 25"
   ]
  },
  {
   "cell_type": "code",
   "execution_count": null,
   "metadata": {
    "execution": {
     "iopub.execute_input": "2024-12-04T21:35:07.819351Z",
     "iopub.status.busy": "2024-12-04T21:35:07.818932Z",
     "iopub.status.idle": "2024-12-04T21:35:07.824535Z",
     "shell.execute_reply": "2024-12-04T21:35:07.823473Z",
     "shell.execute_reply.started": "2024-12-04T21:35:07.819315Z"
    }
   },
   "outputs": [],
   "source": [
    "tm = transition_matrix(25)"
   ]
  },
  {
   "cell_type": "markdown",
   "metadata": {},
   "source": [
    "### 7.2. Muestree 1000 trayectorias de 100 pasos utilizando la función de muestreo que escribió anteriormente, registre el último estado para cada trayectoria en una lista separada."
   ]
  },
  {
   "cell_type": "code",
   "execution_count": null,
   "metadata": {
    "execution": {
     "iopub.execute_input": "2024-12-04T22:05:34.510499Z",
     "iopub.status.busy": "2024-12-04T22:05:34.509849Z",
     "iopub.status.idle": "2024-12-04T22:05:37.056257Z",
     "shell.execute_reply": "2024-12-04T22:05:37.055244Z",
     "shell.execute_reply.started": "2024-12-04T22:05:34.510460Z"
    }
   },
   "outputs": [],
   "source": [
    "k = 100\n",
    "s0 = 0\n",
    "trayectorias = []\n",
    "for _ in range(1000):\n",
    "    trayectorias.append(sample(tm, k, s0))\n",
    "ultimos_estados = [trayectoria[100] for trayectoria in trayectorias]"
   ]
  },
  {
   "cell_type": "markdown",
   "metadata": {},
   "source": [
    "### 7.3. Muestra un histograma de los estados finales"
   ]
  },
  {
   "cell_type": "code",
   "execution_count": null,
   "metadata": {
    "execution": {
     "iopub.execute_input": "2024-12-04T22:07:56.374441Z",
     "iopub.status.busy": "2024-12-04T22:07:56.374032Z",
     "iopub.status.idle": "2024-12-04T22:07:56.595762Z",
     "shell.execute_reply": "2024-12-04T22:07:56.594814Z",
     "shell.execute_reply.started": "2024-12-04T22:07:56.374405Z"
    },
    "id": "kxo8YbtPOJRF"
   },
   "outputs": [],
   "source": [
    "#YOUR CODE HERE\n",
    "bins = [0.5 + i for i in range(-1,25)]\n",
    "plt.figure(figsize=(12, 6))\n",
    "\n",
    "plt.hist(ultimos_estados, bins=bins, edgecolor='black', color='skyblue')\n",
    "plt.xticks(bins) \n",
    "plt.title(\"Frecuencia de Estados Finales\")\n",
    "plt.xlabel(\"Intervalos\")\n",
    "plt.ylabel(\"Frecuencia\")\n",
    "plt.show()"
   ]
  },
  {
   "cell_type": "markdown",
   "metadata": {},
   "source": [
    "### 7.4. Utiliza la función `propagate` que escribiste para calcular la distribución teórica después de 100 pasos"
   ]
  },
  {
   "cell_type": "code",
   "execution_count": null,
   "metadata": {
    "execution": {
     "iopub.execute_input": "2024-12-04T22:19:05.333798Z",
     "iopub.status.busy": "2024-12-04T22:19:05.333435Z",
     "iopub.status.idle": "2024-12-04T22:19:05.339353Z",
     "shell.execute_reply": "2024-12-04T22:19:05.338329Z",
     "shell.execute_reply.started": "2024-12-04T22:19:05.333767Z"
    }
   },
   "outputs": [],
   "source": [
    "p0 = np.zeros(25)\n",
    "p0[0] = 1\n",
    "distribucion_teorica = propagate(p0, k, tm)"
   ]
  },
  {
   "cell_type": "markdown",
   "metadata": {},
   "source": [
    "### 7.5. Muestra la distribución esperada en el mismo gráfico y comprueba que coincide con el histograma."
   ]
  },
  {
   "cell_type": "markdown",
   "metadata": {},
   "source": [
    "### 7.6. Guarda el gráfico como «qsn7.png»."
   ]
  },
  {
   "cell_type": "code",
   "execution_count": null,
   "metadata": {
    "execution": {
     "iopub.execute_input": "2024-12-04T23:07:50.641846Z",
     "iopub.status.busy": "2024-12-04T23:07:50.641494Z",
     "iopub.status.idle": "2024-12-04T23:07:50.865713Z",
     "shell.execute_reply": "2024-12-04T23:07:50.864568Z",
     "shell.execute_reply.started": "2024-12-04T23:07:50.641814Z"
    }
   },
   "outputs": [],
   "source": [
    "bins = [0.5 + i for i in range(-1,25)]\n",
    "plt.figure(figsize=(12, 6))\n",
    "\n",
    "plt.hist(ultimos_estados, bins=bins, edgecolor='black', color='skyblue')\n",
    "plt.xticks(bins) \n",
    "plt.plot(1000*distribucion_teorica, color=\"red\", marker=\"o\")\n",
    "\n",
    "plt.title(\"Frecuencia de Estados Finales\")\n",
    "plt.xlabel(\"Intervalos\")\n",
    "plt.ylabel(\"Frecuencia\")\n",
    "plt.savefig(\"qsn7.png\")\n",
    "plt.show()"
   ]
  },
  {
   "cell_type": "markdown",
   "metadata": {
    "id": "kCA-hxjtMN9l"
   },
   "source": [
    "# 2. Pandas\n",
    "\n",
    "## Parte 1\n",
    "El siguiente código carga el conjunto de datos de los Juegos Olímpicos (olympics.csv), que se obtuvo de la entrada de Wikipedia sobre [Medallas de todos los Juegos Olímpicos](https://en.wikipedia.org/wiki/All-time_Olympic_Games_medal_table), y realiza una limpieza básica de los datos.\n",
    "\n",
    "Las columnas están organizadas en # of Summer games, Summer medals, # of Winter games, Winter medals, total # number of games, total # of medals. Use this dataset to answer the questions below."
   ]
  },
  {
   "cell_type": "code",
   "execution_count": null,
   "metadata": {
    "colab": {
     "base_uri": "https://localhost:8080/",
     "height": 206
    },
    "execution": {
     "iopub.execute_input": "2024-12-04T19:49:42.283559Z",
     "iopub.status.busy": "2024-12-04T19:49:42.283279Z",
     "iopub.status.idle": "2024-12-04T19:49:43.278625Z",
     "shell.execute_reply": "2024-12-04T19:49:43.277155Z",
     "shell.execute_reply.started": "2024-12-04T19:49:42.283530Z"
    },
    "id": "d95H5eCXcleX",
    "nbgrader": {
     "grade": false,
     "grade_id": "1",
     "locked": false,
     "solution": false
    },
    "outputId": "4cca4f17-33d2-40c1-8196-da011b0fb49a"
   },
   "outputs": [],
   "source": [
    "import pandas as pd\n",
    "\n",
    "df = pd.read_csv('olympics.csv', index_col=0, skiprows=1)\n",
    "\n",
    "for col in df.columns:\n",
    "    if col[:2]=='01':\n",
    "        df.rename(columns={col:'Gold'+col[4:]}, inplace=True)\n",
    "    if col[:2]=='02':\n",
    "        df.rename(columns={col:'Silver'+col[4:]}, inplace=True)\n",
    "    if col[:2]=='03':\n",
    "        df.rename(columns={col:'Bronze'+col[4:]}, inplace=True)\n",
    "    if col[:1]=='№':\n",
    "        df.rename(columns={col:'#'+col[1:]}, inplace=True)\n",
    "\n",
    "names_ids = df.index.str.split('\\s\\(') # split the index by '('\n",
    "\n",
    "df.index = names_ids.str[0] # the [0] element is the country name (new index)\n",
    "df['ID'] = names_ids.str[1].str[:3] # the [1] element is the abbreviation or ID (take first 3 characters from that)\n",
    "\n",
    "df = df.drop('Totals')\n",
    "df.head()"
   ]
  },
  {
   "cell_type": "markdown",
   "metadata": {
    "id": "a_LAQ-b4MN9m"
   },
   "source": [
    "### Pregunta 8 (Ejemplo) (0.25 puntos)\n",
    "\n",
    "¿Cuál es el primer país en df?\n",
    "\n",
    "*Esta función debería devolver una Serie.*"
   ]
  },
  {
   "cell_type": "code",
   "execution_count": null,
   "metadata": {
    "colab": {
     "base_uri": "https://localhost:8080/"
    },
    "execution": {
     "iopub.status.busy": "2024-12-04T19:49:43.279569Z",
     "iopub.status.idle": "2024-12-04T19:49:43.279916Z",
     "shell.execute_reply": "2024-12-04T19:49:43.279766Z",
     "shell.execute_reply.started": "2024-12-04T19:49:43.279749Z"
    },
    "id": "YILd3DE6cleY",
    "nbgrader": {
     "grade": false,
     "locked": false,
     "solution": false
    },
    "outputId": "2a7b24d9-1469-44e5-e364-7d12d817fd7a"
   },
   "outputs": [],
   "source": [
    "def answer_one():\n",
    "\n",
    "    # YOUR CODE HERE\n",
    "    raise NotImplementedError()\n",
    "answer_one()"
   ]
  },
  {
   "cell_type": "markdown",
   "metadata": {
    "id": "_LidCjxaMN9m"
   },
   "source": [
    "### Pregunta 9 (0.25 puntos)\n",
    "¿Qué país tiene la mayor diferencia entre sus medallas de oro de verano y de invierno?\n",
    "\n",
    "*Esta función debe devolver un único string.*"
   ]
  },
  {
   "cell_type": "code",
   "execution_count": null,
   "metadata": {
    "colab": {
     "base_uri": "https://localhost:8080/"
    },
    "execution": {
     "iopub.status.busy": "2024-12-04T19:49:43.281224Z",
     "iopub.status.idle": "2024-12-04T19:49:43.281757Z",
     "shell.execute_reply": "2024-12-04T19:49:43.281590Z",
     "shell.execute_reply.started": "2024-12-04T19:49:43.281568Z"
    },
    "id": "ywcij6O9cleY",
    "outputId": "1a79190e-dbc7-4f67-b6eb-9509f2093d31"
   },
   "outputs": [],
   "source": [
    "def answer_two():\n",
    "    # YOUR CODE HERE\n",
    "    raise NotImplementedError()\n",
    "answer_two()"
   ]
  },
  {
   "cell_type": "markdown",
   "metadata": {
    "id": "yt7Lw5HYMN9m"
   },
   "source": [
    "### Pregunta 10 (0.25 puntos)\n",
    "¿Qué país tiene la mayor diferencia entre el número de medallas de oro de verano y el número de medallas de oro de invierno en relación con el número total de medallas de oro?\n",
    "\n",
    "$$\\frac{Summer~Gold - Winter~Gold}{Total~Gold}$$\n",
    "\n",
    "Sólo se incluyen los países que han ganado al menos 1 medalla de oro tanto en verano como en invierno.\n",
    "\n",
    "*Esta función debe devolver un único string.*"
   ]
  },
  {
   "cell_type": "code",
   "execution_count": null,
   "metadata": {
    "colab": {
     "base_uri": "https://localhost:8080/"
    },
    "execution": {
     "iopub.status.busy": "2024-12-04T19:49:43.283561Z",
     "iopub.status.idle": "2024-12-04T19:49:43.283891Z",
     "shell.execute_reply": "2024-12-04T19:49:43.283751Z",
     "shell.execute_reply.started": "2024-12-04T19:49:43.283734Z"
    },
    "id": "xeW53ZtCcleZ",
    "outputId": "43bbc09e-324b-4bdf-d6ad-21d645f6cf8d"
   },
   "outputs": [],
   "source": [
    "def answer_three():\n",
    "    # YOUR CODE HERE\n",
    "    raise NotImplementedError()\n",
    "answer_three()"
   ]
  },
  {
   "cell_type": "markdown",
   "metadata": {
    "id": "yiz4drdrMN9m"
   },
   "source": [
    "### Pregunta 11 (0.25 puntos)\n",
    "Escriba una función que actualice el dataframe para incluir una nueva columna llamada \" Points \" que es un valor ponderado donde cada medalla de oro cuenta por 3 puntos, las de plata por 2 puntos y las de bronce por 1 punto. La función debe devolver sólo la columna (un objeto Serie) que ha creado.\n",
    "\n",
    "*Esta función debe devolver una Serie llamada `Points` de longitud 146*"
   ]
  },
  {
   "cell_type": "code",
   "execution_count": null,
   "metadata": {
    "colab": {
     "base_uri": "https://localhost:8080/"
    },
    "execution": {
     "iopub.status.busy": "2024-12-04T19:49:43.284805Z",
     "iopub.status.idle": "2024-12-04T19:49:43.285314Z",
     "shell.execute_reply": "2024-12-04T19:49:43.285062Z",
     "shell.execute_reply.started": "2024-12-04T19:49:43.285036Z"
    },
    "id": "xJFvVKkscleZ",
    "outputId": "0b954cb9-564a-4a35-ff92-ffef94e5214c"
   },
   "outputs": [],
   "source": [
    "def answer_four():\n",
    "    # YOUR CODE HERE\n",
    "    raise NotImplementedError()\n",
    "answer_four()"
   ]
  },
  {
   "cell_type": "markdown",
   "metadata": {
    "id": "IMCC_TAoMN9p"
   },
   "source": [
    "## Parte 2\n",
    "Para la siguiente serie de preguntas, utilizaremos los datos del censo de la [Oficina del Censo de Estados Unidos](https://www2.census.gov/programs-surveys/popest/technical-documentation/file-layouts/2010-2015/). Los condados son subdivisiones políticas y geográficas de los estados de Estados Unidos. Este conjunto de datos contiene datos de población de condados y estados de EE.UU. de 2010 a 2015. [Consulte este documento](https://www2.census.gov/programs-surveys/popest/technical-documentation/file-layouts/2010-2015/co-est2015-alldata.pdf) para obtener una descripción de los nombres de las variables.\n",
    "\n",
    "El  dataset del censo (census.csv) debe cargarse como census_df. Responda a las preguntas utilizando esto según corresponda.\n",
    "\n",
    "### Pregunta 12 (0.5 puntos)\n",
    "¿Qué estado tiene más condados? (pista: ¡considere el uso de la clave sumlevel! También la necesitará para futuras preguntas...)\n",
    "\n",
    "*Esta función debe devolver un único string*"
   ]
  },
  {
   "cell_type": "code",
   "execution_count": null,
   "metadata": {
    "colab": {
     "base_uri": "https://localhost:8080/",
     "height": 325
    },
    "execution": {
     "iopub.status.busy": "2024-12-04T19:49:43.286494Z",
     "iopub.status.idle": "2024-12-04T19:49:43.286952Z",
     "shell.execute_reply": "2024-12-04T19:49:43.286746Z",
     "shell.execute_reply.started": "2024-12-04T19:49:43.286720Z"
    },
    "id": "ChiIoTYqcleZ",
    "outputId": "68816a8c-1556-4a1f-97a8-7bc564f20be8"
   },
   "outputs": [],
   "source": [
    "census_df = pd.read_csv('census.csv')\n",
    "census_df.head()"
   ]
  },
  {
   "cell_type": "code",
   "execution_count": null,
   "metadata": {
    "execution": {
     "iopub.status.busy": "2024-12-04T19:49:43.288399Z",
     "iopub.status.idle": "2024-12-04T19:49:43.288717Z",
     "shell.execute_reply": "2024-12-04T19:49:43.288578Z",
     "shell.execute_reply.started": "2024-12-04T19:49:43.288562Z"
    },
    "id": "NuqcZpPSMN9p"
   },
   "outputs": [],
   "source": [
    "def answer_five():\n",
    "    # YOUR CODE HERE\n",
    "    raise NotImplementedError()\n",
    "answer_five()"
   ]
  },
  {
   "cell_type": "markdown",
   "metadata": {
    "id": "Gd3GPCWAMN9q"
   },
   "source": [
    "### Pregunta 13 (0.5 puntos)\n",
    "Teniendo en cuenta sólo los tres condados más poblados de cada estado, ¿cuáles son los tres estados más poblados (en orden de mayor a menor población)?\n",
    "\n",
    "*Esta función debe devolver una lista de strings.*"
   ]
  },
  {
   "cell_type": "code",
   "execution_count": null,
   "metadata": {
    "colab": {
     "base_uri": "https://localhost:8080/"
    },
    "execution": {
     "iopub.status.busy": "2024-12-04T19:49:43.289910Z",
     "iopub.status.idle": "2024-12-04T19:49:43.290339Z",
     "shell.execute_reply": "2024-12-04T19:49:43.290171Z",
     "shell.execute_reply.started": "2024-12-04T19:49:43.290152Z"
    },
    "id": "zGpqG6iQcleZ",
    "outputId": "4a736182-c904-4d2d-e1ed-5092edeabe32"
   },
   "outputs": [],
   "source": [
    "def answer_six():\n",
    "    # YOUR CODE HERE\n",
    "    raise NotImplementedError()\n",
    "answer_six()"
   ]
  },
  {
   "cell_type": "markdown",
   "metadata": {
    "id": "BjJis-7xMN9q"
   },
   "source": [
    "### Pregunta 14 (0.5 puntos)\n",
    "¿Qué condado ha tenido el mayor cambio de población en el periodo de cinco años (pista: los valores de población se almacenan en las columnas POPESTIMATE2010 a POPESTIMATE2015, debe tener en cuenta las cinco columnas)?\n",
    "\n",
    "*Esta función debe devolver un único string."
   ]
  },
  {
   "cell_type": "code",
   "execution_count": null,
   "metadata": {
    "colab": {
     "base_uri": "https://localhost:8080/",
     "height": 35
    },
    "execution": {
     "iopub.status.busy": "2024-12-04T19:49:43.291954Z",
     "iopub.status.idle": "2024-12-04T19:49:43.292324Z",
     "shell.execute_reply": "2024-12-04T19:49:43.292170Z",
     "shell.execute_reply.started": "2024-12-04T19:49:43.292152Z"
    },
    "id": "zYx7Duy_clea",
    "outputId": "54c80d66-917b-4be0-cc8e-9df79e24c5e0"
   },
   "outputs": [],
   "source": [
    "def answer_seven():\n",
    "    # YOUR CODE HERE\n",
    "    raise NotImplementedError()\n",
    "answer_seven()"
   ]
  },
  {
   "cell_type": "markdown",
   "metadata": {
    "id": "BVan39AIMN9q"
   },
   "source": [
    "### Pregunta 15 (0.5 puntos)\n",
    "En este archivo de datos, Estados Unidos se divide en cuatro regiones mediante la columna \"REGIÓN\".\n",
    "\n",
    "Cree una consulta que encuentre los condados que pertenecen a las regiones 1 ó 2, cuyo nombre empiece por \"Washington\" y cuyo POPESTIMATE2015 sea mayor que su POPESTIMATE 2014.\n",
    "\n",
    "*Esta función debe devolver un DataFrame de 5x2 con las columnas = ['STNAME', 'CTYNAME'] y el mismo index  ID que census_df (ordenado ascendentemente por index).*"
   ]
  },
  {
   "cell_type": "code",
   "execution_count": null,
   "metadata": {
    "colab": {
     "base_uri": "https://localhost:8080/",
     "height": 206
    },
    "execution": {
     "iopub.status.busy": "2024-12-04T19:49:43.293561Z",
     "iopub.status.idle": "2024-12-04T19:49:43.293896Z",
     "shell.execute_reply": "2024-12-04T19:49:43.293749Z",
     "shell.execute_reply.started": "2024-12-04T19:49:43.293732Z"
    },
    "id": "sqZqtT6Gclea",
    "outputId": "d61b708f-f0df-4850-c03b-546b73623036"
   },
   "outputs": [],
   "source": [
    "def answer_eight():\n",
    "    # YOUR CODE HERE\n",
    "    raise NotImplementedError()\n",
    "answer_eight()"
   ]
  },
  {
   "cell_type": "markdown",
   "metadata": {
    "id": "G6Z4JaVwMN9q"
   },
   "source": [
    "# 3. Programación Orientada a objetos (overview)"
   ]
  },
  {
   "cell_type": "markdown",
   "metadata": {
    "id": "HiEpGwiTMN9q"
   },
   "source": [
    "### Pregunta 16 (1.25 puntos)\n",
    "\n",
    "Cree un programa para administrar pedidos en un restaurante. El programa debe contar con\n",
    "los siguientes elementos:\n",
    "\n",
    "* La clase `PlatoDeComida`, representa la comida ordenada por los clientes. Sólo tiene el campo `nombre`, una cadena de\n",
    "  caracteres proveída por el usuario de la clase.\n",
    "\n",
    "* La clase `Mesero`, representa al personal que atiende las mesas. Tiene el campo `nombre`, una cadena de caracteres\n",
    "  proveída por el usuario de la clase.\n",
    "    * Además, tiene el método `tomar_orden` que tiene como parámetro la cadena de caracteres `nombre_plato`. Este método\n",
    "      retorna una instancia de\n",
    "      `PlatoDeComida` con el nombre `nombre_plato`.\n",
    "\n",
    "* La clase `Cliente` representa a los clientes del restaurante. Tiene dos campos: `plato` es una instancia de\n",
    "  `PlatoDeComida` e inicialmente tiene el valor de `None`; y `numero_mesa`, un número entero proveído por el usuario de\n",
    "  la clase.\n",
    "    * Además, tiene el método `hacer_pedido` que tiene como parámetro la cadena de caracteres `nombre_plato` y `mesero`,\n",
    "      una instancia de `Mesero`. En este método, se le asigna al campo `plato` el resultado de invocar `tomar_orden`\n",
    "      en `mesero`.\n",
    "\n",
    "    * El método `obtener_nombre_plato` retorna una cadena de caracteres, correspondiente al nombre del plato que el\n",
    "      cliente ha ordenado.\n",
    "\n",
    "* La clase `Pedido` representa un pedido hecho por un cliente en el restaurante. Tiene dos campos:\n",
    "  `cliente` es una instancia de `Cliente` y `mesero` es una instancia de `Mesero`. El número de mesa de `cliente` y el\n",
    "  nombre de `mesero ` son proveídos por el usuario de la clase.\n",
    "    * Además, tiene el método `ordenar` con el parámetro `plato`, una cadena de caracteres representando el nombre del\n",
    "      plato ordenado por el cliente. En este método, se invoca al método `hacer_pedido` de la instancia en el\n",
    "      campo `cliente`.\n",
    "    * Al invocar `print` sobre instancias de `Pedido`, se debe mostrar el número de mesa, el nombre del mesero, y el\n",
    "      plato ordenado por el cliente (mediante el método `obtener_nombre_plato`).\n",
    "\n",
    "* La función `atender_mesa` permite registrar múltiples pedidos por mesa. Recibe como parámetros el número de mesa, el\n",
    "  nombre del mesero y una lista de cadenas de caracteres, con los platos a ordenar en la mesa. Esta función retorna una\n",
    "  lista de instancias de `Almuerzo`. Por ejemplo, el siguiente código:\n",
    "\n",
    "  ```python\n",
    "    comida_mesa_siete = [\"cebiche\", \"sudado\", \"arroz con leche\"]\n",
    "    almuerzos = atender_mesa(7, \"Tomas\", comida_mesa_siete)\n",
    "\n",
    "    for almuerzo in almuerzos:\n",
    "        print(almuerzo)\n",
    "   ```\n",
    "\n",
    "  Muestra lo siguiente en consola:\n",
    "\n",
    "    ```commandline\n",
    "    El cliente de la mesa 7 ordeno cebiche y fue atendido por Tomas\n",
    "    El cliente de la mesa 7 ordeno sudado y fue atendido por Tomas\n",
    "    El cliente de la mesa 7 ordeno arroz con leche y fue atendido por Tomas\n",
    "    ```"
   ]
  },
  {
   "cell_type": "code",
   "execution_count": null,
   "metadata": {
    "execution": {
     "iopub.status.busy": "2024-12-04T19:49:43.294884Z",
     "iopub.status.idle": "2024-12-04T19:49:43.295245Z",
     "shell.execute_reply": "2024-12-04T19:49:43.295063Z",
     "shell.execute_reply.started": "2024-12-04T19:49:43.295046Z"
    },
    "id": "uQVVHdLiMN9q"
   },
   "outputs": [],
   "source": [
    "class Pedido(object):\n",
    "    def __init__(self, numero_mesa, nombre_mesero):\n",
    "\n",
    "\n",
    "    def ordenar(self, plato):\n",
    "       return\n",
    "\n",
    "\n",
    "class Cliente(object):\n",
    "\n",
    "    def __init__(self, numero_mesa):\n",
    "\n",
    "    def hacer_pedido(self, nombre_plato, mesero):\n",
    "\n",
    "    def obtener_nombre_plato(self):\n",
    "\n",
    "\n",
    "\n",
    "class Mesero(object):\n",
    "\n",
    "    def __init__(self, nombre):\n",
    "\n",
    "\n",
    "    def tomar_orden(self, nombre_plato):\n",
    "        return\n",
    "\n",
    "class PlatoDeComida(object):\n",
    "\n",
    "    def __init__(self, nombre):\n",
    "\n",
    "    def atender_mesa(numero_mesa, mesero, pedidos):\n",
    "\n",
    "\n",
    "if __name__ == \"__main__\":\n",
    "    comida_mesa_siete = [\"cebiche\", \"sudado\", \"arroz con leche\"]\n",
    "    almuerzos = atender_mesa(7, \"Tomas\", comida_mesa_siete)\n",
    "\n",
    "    for almuerzo in almuerzos:\n",
    "        print(almuerzo)\n"
   ]
  }
 ],
 "metadata": {
  "anaconda-cloud": {},
  "colab": {
   "provenance": []
  },
  "coursera": {
   "course_slug": "python-data-analysis",
   "graded_item_id": "tHmgx",
   "launcher_item_id": "Um6Bz",
   "part_id": "OQsnr"
  },
  "kaggle": {
   "accelerator": "none",
   "dataSources": [],
   "dockerImageVersionId": 30804,
   "isGpuEnabled": false,
   "isInternetEnabled": true,
   "language": "python",
   "sourceType": "notebook"
  },
  "kernelspec": {
   "display_name": "Python 3",
   "language": "python",
   "name": "python3"
  },
  "language_info": {
   "codemirror_mode": {
    "name": "ipython",
    "version": 3
   },
   "file_extension": ".py",
   "mimetype": "text/x-python",
   "name": "python",
   "nbconvert_exporter": "python",
   "pygments_lexer": "ipython3",
   "version": "3.8.10"
  }
 },
 "nbformat": 4,
 "nbformat_minor": 4
}

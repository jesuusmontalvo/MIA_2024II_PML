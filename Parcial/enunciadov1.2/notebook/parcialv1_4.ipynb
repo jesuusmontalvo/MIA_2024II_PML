{
 "cells": [
  {
   "cell_type": "markdown",
   "metadata": {
    "id": "gfHgoHjLMN9g"
   },
   "source": [
    "# Examen Parcial de Programación para Machine Learning"
   ]
  },
  {
   "cell_type": "markdown",
   "metadata": {
    "id": "uFQDk_LMMN9h"
   },
   "source": [
    "Instrucciones:\n",
    "* Por favor, complete las tareas de este notebook. Deberá enviar este notebook, así como una versión en PDF, a la plataforma Univirtual.\n",
    "* Para crear el PDF, vaya a Archivo > Descargar como. Puede exportar a PDF mediante Latex, o exportar a HTML y luego imprimir a PDF.\n",
    "* Añada una explicación clara de su enfoque y una interpretación detallada de sus resultados para cada subpregunta. Para ello, utilice celdas Markdown.\n",
    "\n",
    "* Añada a continuación los nombres de todos los miembros del equipo."
   ]
  },
  {
   "cell_type": "markdown",
   "metadata": {
    "id": "u0NpwHJ3MN9i"
   },
   "source": [
    "**Integrantes:**\n",
    "\n",
    "1.   Integrante 1: Josiel Corbera Terrones\n",
    "2.   Integrante 2: Jesús Fernando Montalvo Olazabal\n",
    "3.   Integrante 3: Alex Munive Mendoza\n",
    "4.   Integrante 4: Smith Vera Reyes\n",
    "5.   Integrante 5: Raúl Rivas Jiménez\n",
    "6.   Integrante 6: "
   ]
  },
  {
   "cell_type": "markdown",
   "metadata": {
    "id": "tr1nFcXdMN9i"
   },
   "source": [
    "# 1. NUMPY -MATPLOTLIB\n",
    "\n",
    "En esta tarea aprenderás e implementarás [Cadenas de Markov](https://en.wikipedia.org/wiki/Markov_chain), si nunca has oído hablar de ellas, no te preocupes, este notebook te explicará todo lo necesario para la tarea.\n",
    "\n",
    "## Cadenas de Markov\n",
    "La mejor manera de introducir lo que es una cadena de Markov es con un ejemplo sencillo. Supongamos que tienes un contador sencillo que puedes ajustar a cualquier número entre 1 y 10 (incluyendo 1 y 10). En cada paso se lanza un dado estándar de 6 caras y, dependiendo de si el número obtenido es par o impar, se incrementa o disminuye el contador. Si tratas de incrementar a 10, digamos que se desplaza alrededor de 0 y de manera similar para tratar de disminuir a 0. Ahora puedes jugar este juego para múltiples pasos y registrar el valor del contador después de cada paso, esto es sólo una simple cadena de Markov.\n",
    "\n",
    "He aquí un ejemplo de evolución de la cadena de markov,\n",
    "Empieza con el contador a 1.\n",
    "- Paso 1 : Sacas un 4, es par así que incrementa el contador a 2.\n",
    "- Paso 2 : Sacas un 2, es par así que incrementa el contador a 3.\n",
    "- Paso 3 : Sacas un 5, es impar asi que decrementa el contador a 2.\n",
    "\n",
    "etc.\n",
    "\n",
    "Una cadena de Markov consiste en un conjunto de n estados (en nuestro ejemplo, los 10 estados del contador) y una regla probabilística para saltar a otro estado en cada paso (las tiradas de dados). Aunque en nuestro sencillo ejemplo teníamos una regla similar para cada estado, puedes tener una regla diferente para cada estado. Por ejemplo puedes decir que si el contador es impar, no lances un dado, siempre incrementa, y sigue el dado para estados pares. La regla es siempre en forma de n probabilidades que suman uno. Cada probabilidad indica la posibilidad de que salte a ese estado.\n",
    "\n",
    "En nuestro ejemplo la regla para el estado 1 puede ser representada por este vector numpy\n",
    "\n"
   ]
  },
  {
   "cell_type": "code",
   "execution_count": 2,
   "metadata": {
    "id": "teuYty5kMN9i"
   },
   "outputs": [
    {
     "data": {
      "text/plain": [
       "array([0. , 0.5, 0. , 0. , 0. , 0. , 0. , 0. , 0. , 0.5])"
      ]
     },
     "execution_count": 2,
     "metadata": {},
     "output_type": "execute_result"
    }
   ],
   "source": [
    "import numpy as np\n",
    "np.array([0. , 0.5, 0. , 0. , 0. , 0. , 0. , 0. , 0. , 0.5])"
   ]
  },
  {
   "cell_type": "markdown",
   "metadata": {
    "id": "w2kAXYGSMN9j"
   },
   "source": [
    "El índice en el array representa el estado y el valor representa la probabilidad con la que saltará a ese estado. De forma similar, ésta es la regla para el estado 5"
   ]
  },
  {
   "cell_type": "code",
   "execution_count": 3,
   "metadata": {
    "id": "guAAqu1RMN9j"
   },
   "outputs": [
    {
     "data": {
      "text/plain": [
       "array([0. , 0. , 0. , 0.5, 0. , 0.5, 0. , 0. , 0. , 0. ])"
      ]
     },
     "execution_count": 3,
     "metadata": {},
     "output_type": "execute_result"
    }
   ],
   "source": [
    "np.array([0. , 0. , 0. , 0.5, 0. , 0.5, 0. , 0. , 0. , 0. ])"
   ]
  },
  {
   "cell_type": "markdown",
   "metadata": {
    "id": "oXrcyhlbMN9j"
   },
   "source": [
    "## Matriz de transición\n",
    "\n",
    "La forma de representar las cadenas de markov es con una matriz de transición $T$ de tamaño (n,n), donde la columna i será el vector de reglas para el estado i ( Aquí estamos suponiendo que los estados se numeran de 0 a n-1 ).\n",
    "\n",
    "Así se puede interpretar el elemento $T_{ij}$ de la matriz como la probabilidad de saltar al estado i desde el estado j."
   ]
  },
  {
   "cell_type": "markdown",
   "metadata": {
    "id": "b_zdApGqMN9j"
   },
   "source": [
    "## Pregunta 1 (1.25 puntos)\n",
    "\n",
    "Escriba una función que devuelva la matriz de transición de la siguiente cadena de markov, dado el número de estados como argumento.\n",
    "\n",
    "La regla de la cadena de markov es la siguiente,\n",
    "\n",
    "Si el estado actual es i\n",
    "1. Con probabilidad 0.8, pasa al estado i+1\n",
    "2. Con probabilidad 0,2, vuelve al estado i = 0.\n",
    "3. En el estado n-1, como no puede subir más, con probabilidad 1 se queda en el mismo estado de n-1.\n",
    "\n",
    "Intuitivamente, esta cadena de Markov se comporta de la siguiente manera, en cada paso hay un 80% de probabilidad de que suba 1 y un 20% de probabilidad de que caiga completamente, sin embargo, si llega al estado final n-1, se queda allí para siempre.\n",
    "\n",
    "En esta pregunta **no** puedes utilizar ningún bucle for, en su lugar utiliza la indexación de numpy para rellenar tu matriz. Puedes asumir que n es al menos 3.\n",
    "\n",
    "Pistas:\n",
    "1. Primero escribe tu código en una celda vacía for con un valor n predefinido (hardcoded), de esta manera puedes iterar rápidamente y obtener la respuesta correcta primero. Luego cópialo en la función.\n",
    "2. Puedes usar [Array indexing](https://docs.scipy.org/doc/numpy-1.13.0/user/basics.indexing.html#index-arrays)"
   ]
  },
  {
   "cell_type": "code",
   "execution_count": 4,
   "metadata": {
    "id": "KSEyB-saMN9k"
   },
   "outputs": [],
   "source": [
    "#YOUR CODE HERE\n",
    "def transition_matrix(n):\n",
    "    m = n - 1\n",
    "    matriz_transicion = np.zeros((n,n))\n",
    "    matriz_transicion[0,:m] = 0.2 * np.ones((1,m))\n",
    "    matriz_transicion[m,m] = 1\n",
    "    np.fill_diagonal(matriz_transicion[1:,:m], [0.8] * m)\n",
    "    return matriz_transicion"
   ]
  },
  {
   "cell_type": "code",
   "execution_count": 5,
   "metadata": {
    "id": "d51Cj77pMN9k"
   },
   "outputs": [
    {
     "data": {
      "text/plain": [
       "array([[0.2, 0.2, 0.2, 0.2, 0.2, 0.2, 0.2, 0.2, 0.2, 0. ],\n",
       "       [0.8, 0. , 0. , 0. , 0. , 0. , 0. , 0. , 0. , 0. ],\n",
       "       [0. , 0.8, 0. , 0. , 0. , 0. , 0. , 0. , 0. , 0. ],\n",
       "       [0. , 0. , 0.8, 0. , 0. , 0. , 0. , 0. , 0. , 0. ],\n",
       "       [0. , 0. , 0. , 0.8, 0. , 0. , 0. , 0. , 0. , 0. ],\n",
       "       [0. , 0. , 0. , 0. , 0.8, 0. , 0. , 0. , 0. , 0. ],\n",
       "       [0. , 0. , 0. , 0. , 0. , 0.8, 0. , 0. , 0. , 0. ],\n",
       "       [0. , 0. , 0. , 0. , 0. , 0. , 0.8, 0. , 0. , 0. ],\n",
       "       [0. , 0. , 0. , 0. , 0. , 0. , 0. , 0.8, 0. , 0. ],\n",
       "       [0. , 0. , 0. , 0. , 0. , 0. , 0. , 0. , 0.8, 1. ]])"
      ]
     },
     "execution_count": 5,
     "metadata": {},
     "output_type": "execute_result"
    }
   ],
   "source": [
    "#TESTING\n",
    "transition_matrix(10)"
   ]
  },
  {
   "cell_type": "markdown",
   "metadata": {
    "id": "N6YHNqY_MN9k"
   },
   "source": [
    "Para probar su función , compruebe que lo anterior devuelve\n",
    "```\n",
    "array([[0.2, 0.2, 0.2, 0.2, 0.2, 0.2, 0.2, 0.2, 0.2, 0. ],\n",
    "       [0.8, 0. , 0. , 0. , 0. , 0. , 0. , 0. , 0. , 0. ],\n",
    "       [0. , 0.8, 0. , 0. , 0. , 0. , 0. , 0. , 0. , 0. ],\n",
    "       [0. , 0. , 0.8, 0. , 0. , 0. , 0. , 0. , 0. , 0. ],\n",
    "       [0. , 0. , 0. , 0.8, 0. , 0. , 0. , 0. , 0. , 0. ],\n",
    "       [0. , 0. , 0. , 0. , 0.8, 0. , 0. , 0. , 0. , 0. ],\n",
    "       [0. , 0. , 0. , 0. , 0. , 0.8, 0. , 0. , 0. , 0. ],\n",
    "       [0. , 0. , 0. , 0. , 0. , 0. , 0.8, 0. , 0. , 0. ],\n",
    "       [0. , 0. , 0. , 0. , 0. , 0. , 0. , 0.8, 0. , 0. ],\n",
    "       [0. , 0. , 0. , 0. , 0. , 0. , 0. , 0. , 0.8, 1. ]])\n",
    "```"
   ]
  },
  {
   "cell_type": "markdown",
   "metadata": {
    "id": "yM-E3pTIMN9k"
   },
   "source": [
    "## Pregunta 2 (1.25 puntos)\n",
    "\n",
    "Ahora queremos utilizar la matriz de transición para saber cuáles son las probabilidades de estar en cada estado después de ejecutar la cadena de markov durante k pasos. Por ejemplo, para la cadena de markov anterior, quiero saber después de 30 pasos, cuál es la probabilidad de que haya alcanzado el estado n-1.\n",
    "\n",
    "Por suerte, esto es bastante fácil de calcular, utilizando la multiplicación de matrices. Una propiedad sorprendentemente útil de la matriz de transición es la siguiente, si tienes el vector $p_j$ como el vector de probabilidades después del paso $j$, entonces $p_{j+1}$ viene dado por el siguiente producto vectorial de matrices.\n",
    "\n",
    "$$ p_{j+1} = Tp_j $$\n",
    "\n",
    "No vamos a demostrar este resultado aquí, pero si pasas algún tiempo pensando en lo que la multiplicación de matrices está haciendo aquí, sobre todo interpretarlo como tomar una combinación lineal de columnas, entonces debería tener sentido.\n",
    "\n",
    "Así, si alguien le da una distribución de probabilidad para el estado inicial como $ p_0 $, entonces la distribución de probabilidad después de $ k $ pasos es simplemente dado por multiplicar por la matriz de transición k veces\n",
    "\n",
    "$$ p_{k} = T^{k}p_0 $$\n",
    "\n",
    "Implemente una función que dada una distribución inicial `p0`, el número de pasos `k` y una matriz de transición `tm`, devuelva la distribución después de k pasos"
   ]
  },
  {
   "cell_type": "code",
   "execution_count": 6,
   "metadata": {
    "id": "H0amMf4JMN9k"
   },
   "outputs": [],
   "source": [
    "#YOUR CODE HERE\n",
    "def propagate(p0, k, tm):\n",
    "    return np.linalg.matrix_power(tm, k) @ p0 \n",
    "\n",
    "tm = transition_matrix(10)\n",
    "p0 = np.zeros(10)\n",
    "p0[0] = 1\n",
    "pk = propagate(p0, 30, tm)"
   ]
  },
  {
   "cell_type": "code",
   "execution_count": 7,
   "metadata": {
    "id": "MHOT2vO7MN9k"
   },
   "outputs": [
    {
     "data": {
      "text/plain": [
       "array([0.0816156 , 0.06787354, 0.05644353, 0.04694437, 0.03904617,\n",
       "       0.03247669, 0.02701094, 0.02246264, 0.01867741, 0.6074491 ])"
      ]
     },
     "execution_count": 7,
     "metadata": {},
     "output_type": "execute_result"
    }
   ],
   "source": [
    "#TESTING\n",
    "tm = transition_matrix(10)\n",
    "p0 = np.zeros(10)\n",
    "p0[0] = 1\n",
    "pk = propagate(p0,30,tm)\n",
    "pk"
   ]
  },
  {
   "cell_type": "markdown",
   "metadata": {
    "id": "uE2fa3VUMN9k"
   },
   "source": [
    "El código debería retornar:\n",
    "\n",
    "```\n",
    "array([0.0816156 , 0.06787354, 0.05644353, 0.04694437, 0.03904617,\n",
    "       0.03247669, 0.02701094, 0.02246264, 0.01867741, 0.6074491 ])\n",
    "```"
   ]
  },
  {
   "cell_type": "markdown",
   "metadata": {
    "id": "t5mgu9aKMN9k"
   },
   "source": [
    "## Pregunta 3 (1.25 puntos)\n",
    "\n",
    "Ahora usa la función anterior para graficar (plot) las probabilidades al final de cada paso para los primeros 10 pasos en la misma gráfica.\n",
    "1. Cree una matriz de transición para n = 10\n",
    "2. Cree un vector que represente el estado inicial que se encuentra en el estado 0 con probabilidad 1.\n",
    "3. Grafique en la misma figura la distribución de probabilidad después de cada paso para 10 pasos\n",
    "4. Asegúrate de etiquetar los ejes X e Y, y dale un título al gráfico, guarda el gráfico en un archivo llamado \"qsn3.png\""
   ]
  },
  {
   "cell_type": "markdown",
   "metadata": {},
   "source": [
    "### 3.1. Cree una matriz de transición para n = 10"
   ]
  },
  {
   "cell_type": "code",
   "execution_count": 74,
   "metadata": {
    "id": "7sMopSD-MN9k"
   },
   "outputs": [
    {
     "data": {
      "text/plain": [
       "array([[0.2, 0.2, 0.2, 0.2, 0.2, 0.2, 0.2, 0.2, 0.2, 0. ],\n",
       "       [0.8, 0. , 0. , 0. , 0. , 0. , 0. , 0. , 0. , 0. ],\n",
       "       [0. , 0.8, 0. , 0. , 0. , 0. , 0. , 0. , 0. , 0. ],\n",
       "       [0. , 0. , 0.8, 0. , 0. , 0. , 0. , 0. , 0. , 0. ],\n",
       "       [0. , 0. , 0. , 0.8, 0. , 0. , 0. , 0. , 0. , 0. ],\n",
       "       [0. , 0. , 0. , 0. , 0.8, 0. , 0. , 0. , 0. , 0. ],\n",
       "       [0. , 0. , 0. , 0. , 0. , 0.8, 0. , 0. , 0. , 0. ],\n",
       "       [0. , 0. , 0. , 0. , 0. , 0. , 0.8, 0. , 0. , 0. ],\n",
       "       [0. , 0. , 0. , 0. , 0. , 0. , 0. , 0.8, 0. , 0. ],\n",
       "       [0. , 0. , 0. , 0. , 0. , 0. , 0. , 0. , 0.8, 1. ]])"
      ]
     },
     "execution_count": 74,
     "metadata": {},
     "output_type": "execute_result"
    }
   ],
   "source": [
    "#YOUR CODE HERE\n",
    "tm = transition_matrix(10)\n",
    "tm"
   ]
  },
  {
   "cell_type": "markdown",
   "metadata": {},
   "source": [
    "### 3.2. Cree un vector que represente el estado inicial que se encuentra en el estado 0 con probabilidad 1."
   ]
  },
  {
   "cell_type": "code",
   "execution_count": 75,
   "metadata": {},
   "outputs": [],
   "source": [
    "p0 = np.zeros(10)\n",
    "p0[0] = 1"
   ]
  },
  {
   "cell_type": "markdown",
   "metadata": {},
   "source": [
    "### 3.3. Grafique en la misma figura la distribución de probabilidad después de cada paso para 10 pasos\n",
    "### 3.4. Asegúrate de etiquetar los ejes X e Y, y dale un título al gráfico, guarda el gráfico en un archivo llamado \"qsn3.png\""
   ]
  },
  {
   "cell_type": "code",
   "execution_count": 87,
   "metadata": {},
   "outputs": [
    {
     "data": {
      "image/png": "[encoded data removed]",
      "text/plain": [
       "<Figure size 640x480 with 1 Axes>"
      ]
     },
     "metadata": {},
     "output_type": "display_data"
    }
   ],
   "source": [
    "from matplotlib import pyplot as plt\n",
    "\n",
    "estados = np.arange(10)\n",
    "for k in range(1,11):\n",
    "    pk = propagate(p0, k, tm)\n",
    "    plt.plot(estados, pk, marker=\"o\",  label=f\"Paso {k}\")\n",
    "\n",
    "    for i, value in enumerate(pk):\n",
    "        plt.text(estados[i], value, f\"{round(value, 2)}\", fontsize=8, ha=\"center\", va=\"bottom\")\n",
    "\n",
    "plt.title(\"Estado vs Distribución de Probabilidad\")\n",
    "plt.xlabel(\"Estado\")\n",
    "plt.ylabel(\"Distribución de probabilidad\")\n",
    "plt.legend() \n",
    "plt.savefig(\"qsn3.png\")\n",
    "plt.show()"
   ]
  },
  {
   "cell_type": "markdown",
   "metadata": {
    "id": "s4nu9hy9MN9l"
   },
   "source": [
    "## Pregunta 4 (1.75 puntos)\n",
    "### Parte a\n",
    "Utiliza las funciones que has implementado para calcular lo siguiente :\n",
    "\n",
    "¿Cuántos pasos se necesitan para que la probabilidad de estar en el estado final sea al menos 0,5?\n",
    "\n",
    "Después de cada paso la probabilidad de estar en el estado final aumenta lentamente. En algún momento esta probabilidad superará el 50%. Lo que hay que calcular es cuántos pasos hacen falta para cruzar el 50%.\n",
    "\n",
    "De nuevo, utiliza una matriz de transición n=10 y empieza en el estado 0.\n",
    "\n",
    "Pista:\n",
    "1. Use el bucle while"
   ]
  },
  {
   "cell_type": "code",
   "execution_count": 88,
   "metadata": {
    "id": "rgZn8xaqMN9l"
   },
   "outputs": [
    {
     "name": "stdout",
     "output_type": "stream",
     "text": [
      "24\n",
      "[0.10303856 0.08568818 0.07124865 0.05923119 0.0492298  0.04090694\n",
      " 0.03413293 0.02843224 0.02364651 0.50444499]\n"
     ]
    }
   ],
   "source": [
    "#YOUR CODE HERE\n",
    "flag = True\n",
    "while flag:\n",
    "    k = 1\n",
    "    while k >= 1:\n",
    "        pk = propagate(p0, k, tm)\n",
    "        if pk[9] > 0.5:\n",
    "            flag = False\n",
    "            break\n",
    "        k += 1\n",
    "print(k)\n",
    "print(pk)"
   ]
  },
  {
   "cell_type": "markdown",
   "metadata": {
    "id": "q4PgcqAVMN9l"
   },
   "source": [
    "### Parte b\n",
    "Convierta el código anterior en una función que calcule el número de pasos hasta el 50% de probabilidad en el estado final dado `n` el tamaño de la cadena de markov"
   ]
  },
  {
   "cell_type": "code",
   "execution_count": 92,
   "metadata": {
    "id": "g2YhYuU2MN9l"
   },
   "outputs": [],
   "source": [
    "#YOUR CODE HERE\n",
    "def num_steps(n):\n",
    "    m = n - 1\n",
    "    tm = transition_matrix(n)\n",
    "    p0 = np.zeros(n)\n",
    "    p0[0] = 1\n",
    "    flag = True\n",
    "    while flag:\n",
    "        k = 1\n",
    "        while k >= 1:\n",
    "            pk = propagate(p0, k, tm)\n",
    "            if pk[m] > 0.5:\n",
    "                flag = False\n",
    "                break\n",
    "            k += 1\n",
    "    return k"
   ]
  },
  {
   "cell_type": "code",
   "execution_count": 97,
   "metadata": {},
   "outputs": [
    {
     "data": {
      "text/plain": [
       "2244"
      ]
     },
     "execution_count": 97,
     "metadata": {},
     "output_type": "execute_result"
    }
   ],
   "source": [
    "num_steps(30)"
   ]
  },
  {
   "cell_type": "markdown",
   "metadata": {
    "id": "MOzrs_xLMN9l"
   },
   "source": [
    "### Parte c\n",
    "Calcula y grafica el número de pasos necesarios para $n$ entre 10 y 40.\n",
    "\n",
    "Busca la función de trazado `plt.semilogy` y entiende lo que hace, traza otro gráfico del número de pasos utilizándola.\n",
    "\n",
    "¿Qué te dice el gráfico semilogía?\n",
    "\n",
    "Guarda los gráficos como \"qsn4c.png\" y \"qsn4c_semilogy.png\"."
   ]
  },
  {
   "cell_type": "markdown",
   "metadata": {},
   "source": [
    "### Calcula y grafica el número de pasos necesarios para $n$ entre 10 y 40.\n"
   ]
  },
  {
   "cell_type": "code",
   "execution_count": 106,
   "metadata": {
    "id": "YhfvFBUPMN9l"
   },
   "outputs": [],
   "source": [
    "#YOUR CODE HERE\n",
    "valores_n = np.arange(10, 41)\n",
    "numero_pasos = []\n",
    "for k in range(10, 41):\n",
    "    numero_pasos.append(num_steps(k))"
   ]
  },
  {
   "cell_type": "code",
   "execution_count": 230,
   "metadata": {},
   "outputs": [
    {
     "data": {
      "image/png": "[encoded data removed]",
      "text/plain": [
       "<Figure size 640x480 with 1 Axes>"
      ]
     },
     "metadata": {},
     "output_type": "display_data"
    }
   ],
   "source": [
    "plt.plot(valores_n, numero_pasos, color=\"gray\", linestyle=\"--\")\n",
    "\n",
    "for i, value in enumerate(numero_pasos):\n",
    "    if i % 2 == 0:\n",
    "        plt.text(valores_n[i], value + 500, f\"{value}\", fontsize=\"8\", ha=\"right\", va=\"bottom\", color=\"blue\")\n",
    "        plt.plot(valores_n[i], value, marker=\"o\", color=\"blue\", linestyle=\"\")\n",
    "    else:\n",
    "        plt.text(valores_n[i], value - 500, f\"{value}\", fontsize=\"8\", ha=\"left\", va=\"top\", color=\"purple\")\n",
    "        plt.plot(valores_n[i], value, marker=\"o\", color=\"purple\", linestyle=\"\")\n",
    "\n",
    "plt.title(\"50% de probabilidad en el estado final \")\n",
    "plt.xlabel(\"n (Tamaño de la cadena de Markov)\")\n",
    "plt.ylabel(\"Número de pasos\")\n",
    "plt.savefig(\"qsn4c.png\")\n",
    "plt.show()"
   ]
  },
  {
   "cell_type": "markdown",
   "metadata": {},
   "source": [
    "### Usando la función de trazado `plt.semilogy`"
   ]
  },
  {
   "cell_type": "code",
   "execution_count": 229,
   "metadata": {},
   "outputs": [
    {
     "data": {
      "image/png": "[encoded data removed]",
      "text/plain": [
       "<Figure size 640x480 with 1 Axes>"
      ]
     },
     "metadata": {},
     "output_type": "display_data"
    }
   ],
   "source": [
    "import math\n",
    "\n",
    "plt.semilogy(valores_n, numero_pasos, color=\"gray\", linestyle=\"--\")\n",
    "\n",
    "for i, value in enumerate(numero_pasos):\n",
    "    if i % 2 == 0:\n",
    "        plt.text(valores_n[i], value, f\"{round(math.log(value),2)}  \", fontsize=8, ha=\"right\", va=\"bottom\", color=\"blue\")\n",
    "        plt.semilogy(valores_n[i], value, marker=\"o\", color=\"blue\", linestyle=\"\")\n",
    "    else:\n",
    "        plt.text(valores_n[i], value, f\"  {round(math.log(value),2)}\", fontsize=8, ha=\"left\", va=\"top\", color=\"purple\")\n",
    "        plt.semilogy(valores_n[i], value, marker=\"o\", color=\"purple\", linestyle=\"\")\n",
    "\n",
    "plt.title(\"50% de probabilidad en el estado final\")\n",
    "plt.xlabel(\"n (Tamaño de la cadena de Markov)\")\n",
    "plt.ylabel(\"Número de pasos (Escala logaritmica)\")\n",
    "plt.savefig(\"qsn4c_semilogy.png\")\n",
    "plt.show()"
   ]
  },
  {
   "cell_type": "markdown",
   "metadata": {
    "id": "pqfLEfJjMN9l"
   },
   "source": [
    "## Pregunta 5 (1.25 puntos)\n",
    "\n",
    "Ahora queremos calcular también algunas evoluciones muestrales de las cadenas de markov. ¿Qué significa esto? Queremos una secuencia de estados trazada según las reglas de la cadena de markov. Por lo tanto, queremos utilizar el azar para elegir cuál es el siguiente estado. Así, cada llamada a la función devolverá una respuesta diferente, una nueva muestra.\n",
    "\n",
    "Por ejemplo, consideremos la cadena de Markov que hemos estado utilizando: sube con una probabilidad del 80% o baja a 0 en caso contrario; una vez que alcanza el último estado, se queda atascada en él. He aquí una muestra de 20 pasos.\n",
    "\n",
    "```[0, 1, 2, 3, 0, 1, 2, 3, 0, 1, 2, 3, 4, 5, 6, 7, 8, 9, 9, 9, 9]```\n",
    "\n",
    "Escribe una función que devuelva una muestra por cada llamada. Debe tomar la matriz de transición `tm`, el número de pasos `k` y un estado inicial `s0` y devolver una matriz de tamaño `k+1` de estados (incluyendo el estado inicial)."
   ]
  },
  {
   "cell_type": "code",
   "execution_count": 14,
   "metadata": {
    "id": "pyDGyPQwMN9l"
   },
   "outputs": [],
   "source": [
    "import numpy.random as rnd\n"
   ]
  },
  {
   "cell_type": "code",
   "execution_count": 15,
   "metadata": {
    "id": "RDYXURw4MN9l"
   },
   "outputs": [],
   "source": [
    "#YOUR CODE HERE\n",
    "def sample(tm, k, s0):\n",
    "    pass"
   ]
  },
  {
   "cell_type": "markdown",
   "metadata": {
    "id": "AUdKNp7dMu7y"
   },
   "source": [
    "Utiliza el siguiente código para probar algunas de las muestras, muestrea 20 trayectorias de la cadena de Markov y las representa gráficamente. El gráfico debería mostrar que casi todas o todas las trayectorias habrían alcanzado el estado final al final. Guarda este gráfico como «qsn5.png»."
   ]
  },
  {
   "cell_type": "code",
   "execution_count": 16,
   "metadata": {
    "id": "2j3scS_gMN9l"
   },
   "outputs": [
    {
     "ename": "ValueError",
     "evalue": "x, y, and format string must not be None",
     "output_type": "error",
     "traceback": [
      "\u001b[0;31m---------------------------------------------------------------------------\u001b[0m",
      "\u001b[0;31mValueError\u001b[0m                                Traceback (most recent call last)",
      "Cell \u001b[0;32mIn[16], line 9\u001b[0m\n\u001b[1;32m      7\u001b[0m \u001b[38;5;28;01mfor\u001b[39;00m i \u001b[38;5;129;01min\u001b[39;00m \u001b[38;5;28mrange\u001b[39m(\u001b[38;5;241m20\u001b[39m):\n\u001b[1;32m      8\u001b[0m     states \u001b[38;5;241m=\u001b[39m sample(tm, \u001b[38;5;241m100\u001b[39m, s0)\n\u001b[0;32m----> 9\u001b[0m     \u001b[43mplt\u001b[49m\u001b[38;5;241;43m.\u001b[39;49m\u001b[43mplot\u001b[49m\u001b[43m(\u001b[49m\u001b[43mstates\u001b[49m\u001b[43m)\u001b[49m\n\u001b[1;32m     11\u001b[0m plt\u001b[38;5;241m.\u001b[39msavefig(\u001b[38;5;124m\"\u001b[39m\u001b[38;5;124mqsn5.png\u001b[39m\u001b[38;5;124m\"\u001b[39m)\n",
      "File \u001b[0;32m~/.local/lib/python3.8/site-packages/matplotlib/pyplot.py:2812\u001b[0m, in \u001b[0;36mplot\u001b[0;34m(scalex, scaley, data, *args, **kwargs)\u001b[0m\n\u001b[1;32m   2810\u001b[0m \u001b[38;5;129m@_copy_docstring_and_deprecators\u001b[39m(Axes\u001b[38;5;241m.\u001b[39mplot)\n\u001b[1;32m   2811\u001b[0m \u001b[38;5;28;01mdef\u001b[39;00m \u001b[38;5;21mplot\u001b[39m(\u001b[38;5;241m*\u001b[39margs, scalex\u001b[38;5;241m=\u001b[39m\u001b[38;5;28;01mTrue\u001b[39;00m, scaley\u001b[38;5;241m=\u001b[39m\u001b[38;5;28;01mTrue\u001b[39;00m, data\u001b[38;5;241m=\u001b[39m\u001b[38;5;28;01mNone\u001b[39;00m, \u001b[38;5;241m*\u001b[39m\u001b[38;5;241m*\u001b[39mkwargs):\n\u001b[0;32m-> 2812\u001b[0m     \u001b[38;5;28;01mreturn\u001b[39;00m \u001b[43mgca\u001b[49m\u001b[43m(\u001b[49m\u001b[43m)\u001b[49m\u001b[38;5;241;43m.\u001b[39;49m\u001b[43mplot\u001b[49m\u001b[43m(\u001b[49m\n\u001b[1;32m   2813\u001b[0m \u001b[43m        \u001b[49m\u001b[38;5;241;43m*\u001b[39;49m\u001b[43margs\u001b[49m\u001b[43m,\u001b[49m\u001b[43m \u001b[49m\u001b[43mscalex\u001b[49m\u001b[38;5;241;43m=\u001b[39;49m\u001b[43mscalex\u001b[49m\u001b[43m,\u001b[49m\u001b[43m \u001b[49m\u001b[43mscaley\u001b[49m\u001b[38;5;241;43m=\u001b[39;49m\u001b[43mscaley\u001b[49m\u001b[43m,\u001b[49m\n\u001b[1;32m   2814\u001b[0m \u001b[43m        \u001b[49m\u001b[38;5;241;43m*\u001b[39;49m\u001b[38;5;241;43m*\u001b[39;49m\u001b[43m(\u001b[49m\u001b[43m{\u001b[49m\u001b[38;5;124;43m\"\u001b[39;49m\u001b[38;5;124;43mdata\u001b[39;49m\u001b[38;5;124;43m\"\u001b[39;49m\u001b[43m:\u001b[49m\u001b[43m \u001b[49m\u001b[43mdata\u001b[49m\u001b[43m}\u001b[49m\u001b[43m \u001b[49m\u001b[38;5;28;43;01mif\u001b[39;49;00m\u001b[43m \u001b[49m\u001b[43mdata\u001b[49m\u001b[43m \u001b[49m\u001b[38;5;129;43;01mis\u001b[39;49;00m\u001b[43m \u001b[49m\u001b[38;5;129;43;01mnot\u001b[39;49;00m\u001b[43m \u001b[49m\u001b[38;5;28;43;01mNone\u001b[39;49;00m\u001b[43m \u001b[49m\u001b[38;5;28;43;01melse\u001b[39;49;00m\u001b[43m \u001b[49m\u001b[43m{\u001b[49m\u001b[43m}\u001b[49m\u001b[43m)\u001b[49m\u001b[43m,\u001b[49m\u001b[43m \u001b[49m\u001b[38;5;241;43m*\u001b[39;49m\u001b[38;5;241;43m*\u001b[39;49m\u001b[43mkwargs\u001b[49m\u001b[43m)\u001b[49m\n",
      "File \u001b[0;32m~/.local/lib/python3.8/site-packages/matplotlib/axes/_axes.py:1688\u001b[0m, in \u001b[0;36mAxes.plot\u001b[0;34m(self, scalex, scaley, data, *args, **kwargs)\u001b[0m\n\u001b[1;32m   1445\u001b[0m \u001b[38;5;250m\u001b[39m\u001b[38;5;124;03m\"\"\"\u001b[39;00m\n\u001b[1;32m   1446\u001b[0m \u001b[38;5;124;03mPlot y versus x as lines and/or markers.\u001b[39;00m\n\u001b[1;32m   1447\u001b[0m \n\u001b[0;32m   (...)\u001b[0m\n\u001b[1;32m   1685\u001b[0m \u001b[38;5;124;03m(``'green'``) or hex strings (``'#008000'``).\u001b[39;00m\n\u001b[1;32m   1686\u001b[0m \u001b[38;5;124;03m\"\"\"\u001b[39;00m\n\u001b[1;32m   1687\u001b[0m kwargs \u001b[38;5;241m=\u001b[39m cbook\u001b[38;5;241m.\u001b[39mnormalize_kwargs(kwargs, mlines\u001b[38;5;241m.\u001b[39mLine2D)\n\u001b[0;32m-> 1688\u001b[0m lines \u001b[38;5;241m=\u001b[39m [\u001b[38;5;241m*\u001b[39m\u001b[38;5;28mself\u001b[39m\u001b[38;5;241m.\u001b[39m_get_lines(\u001b[38;5;241m*\u001b[39margs, data\u001b[38;5;241m=\u001b[39mdata, \u001b[38;5;241m*\u001b[39m\u001b[38;5;241m*\u001b[39mkwargs)]\n\u001b[1;32m   1689\u001b[0m \u001b[38;5;28;01mfor\u001b[39;00m line \u001b[38;5;129;01min\u001b[39;00m lines:\n\u001b[1;32m   1690\u001b[0m     \u001b[38;5;28mself\u001b[39m\u001b[38;5;241m.\u001b[39madd_line(line)\n",
      "File \u001b[0;32m~/.local/lib/python3.8/site-packages/matplotlib/axes/_base.py:311\u001b[0m, in \u001b[0;36m_process_plot_var_args.__call__\u001b[0;34m(self, data, *args, **kwargs)\u001b[0m\n\u001b[1;32m    309\u001b[0m     this \u001b[38;5;241m+\u001b[39m\u001b[38;5;241m=\u001b[39m args[\u001b[38;5;241m0\u001b[39m],\n\u001b[1;32m    310\u001b[0m     args \u001b[38;5;241m=\u001b[39m args[\u001b[38;5;241m1\u001b[39m:]\n\u001b[0;32m--> 311\u001b[0m \u001b[38;5;28;01myield from\u001b[39;00m \u001b[38;5;28;43mself\u001b[39;49m\u001b[38;5;241;43m.\u001b[39;49m\u001b[43m_plot_args\u001b[49m\u001b[43m(\u001b[49m\n\u001b[1;32m    312\u001b[0m \u001b[43m    \u001b[49m\u001b[43mthis\u001b[49m\u001b[43m,\u001b[49m\u001b[43m \u001b[49m\u001b[43mkwargs\u001b[49m\u001b[43m,\u001b[49m\u001b[43m \u001b[49m\u001b[43mambiguous_fmt_datakey\u001b[49m\u001b[38;5;241;43m=\u001b[39;49m\u001b[43mambiguous_fmt_datakey\u001b[49m\u001b[43m)\u001b[49m\n",
      "File \u001b[0;32m~/.local/lib/python3.8/site-packages/matplotlib/axes/_base.py:465\u001b[0m, in \u001b[0;36m_process_plot_var_args._plot_args\u001b[0;34m(self, tup, kwargs, return_kwargs, ambiguous_fmt_datakey)\u001b[0m\n\u001b[1;32m    462\u001b[0m \u001b[38;5;66;03m# Don't allow any None value; these would be up-converted to one\u001b[39;00m\n\u001b[1;32m    463\u001b[0m \u001b[38;5;66;03m# element array of None which causes problems downstream.\u001b[39;00m\n\u001b[1;32m    464\u001b[0m \u001b[38;5;28;01mif\u001b[39;00m \u001b[38;5;28many\u001b[39m(v \u001b[38;5;129;01mis\u001b[39;00m \u001b[38;5;28;01mNone\u001b[39;00m \u001b[38;5;28;01mfor\u001b[39;00m v \u001b[38;5;129;01min\u001b[39;00m tup):\n\u001b[0;32m--> 465\u001b[0m     \u001b[38;5;28;01mraise\u001b[39;00m \u001b[38;5;167;01mValueError\u001b[39;00m(\u001b[38;5;124m\"\u001b[39m\u001b[38;5;124mx, y, and format string must not be None\u001b[39m\u001b[38;5;124m\"\u001b[39m)\n\u001b[1;32m    467\u001b[0m kw \u001b[38;5;241m=\u001b[39m {}\n\u001b[1;32m    468\u001b[0m \u001b[38;5;28;01mfor\u001b[39;00m prop_name, val \u001b[38;5;129;01min\u001b[39;00m \u001b[38;5;28mzip\u001b[39m((\u001b[38;5;124m'\u001b[39m\u001b[38;5;124mlinestyle\u001b[39m\u001b[38;5;124m'\u001b[39m, \u001b[38;5;124m'\u001b[39m\u001b[38;5;124mmarker\u001b[39m\u001b[38;5;124m'\u001b[39m, \u001b[38;5;124m'\u001b[39m\u001b[38;5;124mcolor\u001b[39m\u001b[38;5;124m'\u001b[39m),\n\u001b[1;32m    469\u001b[0m                           (linestyle, marker, color)):\n",
      "\u001b[0;31mValueError\u001b[0m: x, y, and format string must not be None"
     ]
    },
    {
     "data": {
      "image/png": "[encoded data removed]",
      "text/plain": [
       "<Figure size 640x480 with 1 Axes>"
      ]
     },
     "metadata": {},
     "output_type": "display_data"
    }
   ],
   "source": [
    "#TESTING\n",
    "import matplotlib.pyplot as plt\n",
    "tm = transition_matrix(10)\n",
    "k = 20\n",
    "s0 = 0\n",
    "\n",
    "for i in range(20):\n",
    "    states = sample(tm, 100, s0)\n",
    "    plt.plot(states)\n",
    "\n",
    "plt.savefig(\"qsn5.png\")"
   ]
  },
  {
   "cell_type": "markdown",
   "metadata": {
    "id": "F68YeDMNMW58"
   },
   "source": [
    "## Pregunta 6 (1.5 puntos)\n",
    "\n",
    "Dado que los estados se incrementan aproximadamente en 1 o caen a 0, queremos saber cómo es el ritmo de progreso en promedio.\n",
    "\n",
    "1. Crea una matriz de transición para n = 25\n",
    "2. Muestrea 1000 trayectorias de 100 pasos usando la función de muestreo que escribiste anteriormente.\n",
    "3. Calcula el estado medio (sobre las 1000 muestras) en cada paso de tiempo.\n",
    "4. Grafica el estado promedio vs pasos de tiempo y guardalo como «qsn6.png».\n",
    "\n",
    "Sugerencias:\n",
    "1. Deberías ver un gráfico en el que la media sube rápidamente y luego aumenta lentamente hasta el final.\n"
   ]
  },
  {
   "cell_type": "code",
   "execution_count": null,
   "metadata": {
    "id": "f4IRufolNBy6"
   },
   "outputs": [],
   "source": [
    "#YOUR CODE HERE\n"
   ]
  },
  {
   "cell_type": "markdown",
   "metadata": {
    "id": "uDKGF4ndOK5e"
   },
   "source": [
    "## Pregunta 7 (2 puntos)\n",
    "Ahora queremos verificar si nuestra implementación del muestreo es consistente con nuestra implementación del cálculo de la distribución de probabilidad.\n",
    "\n",
    "1. Crear una matriz de transición para n = 25\n",
    "2. Muestree 1000 trayectorias de 100 pasos utilizando la función de muestreo que escribió anteriormente, registre el último estado para cada trayectoria en una lista separada.\n",
    "3. Muestra un histograma de los estados finales\n",
    "4. Utiliza la función `propagate` que escribiste para calcular la distribución teórica después de 100 pasos\n",
    "5. Muestra la distribución esperada en el mismo gráfico y comprueba que coincide con el histograma.\n",
    "6. Guarda el gráfico como «qsn7.png».\n",
    "\n",
    "Sugerencias:\n",
    "1. Para el histograma puede configurar manualmente los \"bins\" para que haya un \"bin\" para cada estado. Para ello, establezca los límites de los contenedores en ... 2.5, 3.5, ... De esta forma, el estado 3 tendrá un bin entre 2,5 y 3,5.\n",
    "\n",
    "2. La función propagar devuelve una distribución de probabilidad, es necesario multiplicarla por el número de muestras para que sea comparable con el histograma.\n"
   ]
  },
  {
   "cell_type": "code",
   "execution_count": null,
   "metadata": {
    "id": "kxo8YbtPOJRF"
   },
   "outputs": [],
   "source": [
    "#YOUR CODE HERE"
   ]
  },
  {
   "cell_type": "markdown",
   "metadata": {
    "id": "kCA-hxjtMN9l"
   },
   "source": [
    "# 2. Pandas\n",
    "\n",
    "## Parte 1\n",
    "El siguiente código carga el conjunto de datos de los Juegos Olímpicos (olympics.csv), que se obtuvo de la entrada de Wikipedia sobre [Medallas de todos los Juegos Olímpicos](https://en.wikipedia.org/wiki/All-time_Olympic_Games_medal_table), y realiza una limpieza básica de los datos.\n",
    "\n",
    "Las columnas están organizadas en # of Summer games, Summer medals, # of Winter games, Winter medals, total # number of games, total # of medals. Use this dataset to answer the questions below."
   ]
  },
  {
   "cell_type": "code",
   "execution_count": null,
   "metadata": {
    "colab": {
     "base_uri": "https://localhost:8080/",
     "height": 206
    },
    "id": "d95H5eCXcleX",
    "nbgrader": {
     "grade": false,
     "grade_id": "1",
     "locked": false,
     "solution": false
    },
    "outputId": "4cca4f17-33d2-40c1-8196-da011b0fb49a"
   },
   "outputs": [
    {
     "data": {
      "text/html": [
       "<div>\n",
       "<style scoped>\n",
       "    .dataframe tbody tr th:only-of-type {\n",
       "        vertical-align: middle;\n",
       "    }\n",
       "\n",
       "    .dataframe tbody tr th {\n",
       "        vertical-align: top;\n",
       "    }\n",
       "\n",
       "    .dataframe thead th {\n",
       "        text-align: right;\n",
       "    }\n",
       "</style>\n",
       "<table border=\"1\" class=\"dataframe\">\n",
       "  <thead>\n",
       "    <tr style=\"text-align: right;\">\n",
       "      <th></th>\n",
       "      <th># Summer</th>\n",
       "      <th>Gold</th>\n",
       "      <th>Silver</th>\n",
       "      <th>Bronze</th>\n",
       "      <th>Total</th>\n",
       "      <th># Winter</th>\n",
       "      <th>Gold.1</th>\n",
       "      <th>Silver.1</th>\n",
       "      <th>Bronze.1</th>\n",
       "      <th>Total.1</th>\n",
       "      <th># Games</th>\n",
       "      <th>Gold.2</th>\n",
       "      <th>Silver.2</th>\n",
       "      <th>Bronze.2</th>\n",
       "      <th>Combined total</th>\n",
       "      <th>ID</th>\n",
       "    </tr>\n",
       "  </thead>\n",
       "  <tbody>\n",
       "    <tr>\n",
       "      <th>Afghanistan</th>\n",
       "      <td>13</td>\n",
       "      <td>0</td>\n",
       "      <td>0</td>\n",
       "      <td>2</td>\n",
       "      <td>2</td>\n",
       "      <td>0</td>\n",
       "      <td>0</td>\n",
       "      <td>0</td>\n",
       "      <td>0</td>\n",
       "      <td>0</td>\n",
       "      <td>13</td>\n",
       "      <td>0</td>\n",
       "      <td>0</td>\n",
       "      <td>2</td>\n",
       "      <td>2</td>\n",
       "      <td>AFG</td>\n",
       "    </tr>\n",
       "    <tr>\n",
       "      <th>Algeria</th>\n",
       "      <td>12</td>\n",
       "      <td>5</td>\n",
       "      <td>2</td>\n",
       "      <td>8</td>\n",
       "      <td>15</td>\n",
       "      <td>3</td>\n",
       "      <td>0</td>\n",
       "      <td>0</td>\n",
       "      <td>0</td>\n",
       "      <td>0</td>\n",
       "      <td>15</td>\n",
       "      <td>5</td>\n",
       "      <td>2</td>\n",
       "      <td>8</td>\n",
       "      <td>15</td>\n",
       "      <td>ALG</td>\n",
       "    </tr>\n",
       "    <tr>\n",
       "      <th>Argentina</th>\n",
       "      <td>23</td>\n",
       "      <td>18</td>\n",
       "      <td>24</td>\n",
       "      <td>28</td>\n",
       "      <td>70</td>\n",
       "      <td>18</td>\n",
       "      <td>0</td>\n",
       "      <td>0</td>\n",
       "      <td>0</td>\n",
       "      <td>0</td>\n",
       "      <td>41</td>\n",
       "      <td>18</td>\n",
       "      <td>24</td>\n",
       "      <td>28</td>\n",
       "      <td>70</td>\n",
       "      <td>ARG</td>\n",
       "    </tr>\n",
       "    <tr>\n",
       "      <th>Armenia</th>\n",
       "      <td>5</td>\n",
       "      <td>1</td>\n",
       "      <td>2</td>\n",
       "      <td>9</td>\n",
       "      <td>12</td>\n",
       "      <td>6</td>\n",
       "      <td>0</td>\n",
       "      <td>0</td>\n",
       "      <td>0</td>\n",
       "      <td>0</td>\n",
       "      <td>11</td>\n",
       "      <td>1</td>\n",
       "      <td>2</td>\n",
       "      <td>9</td>\n",
       "      <td>12</td>\n",
       "      <td>ARM</td>\n",
       "    </tr>\n",
       "    <tr>\n",
       "      <th>Australasia</th>\n",
       "      <td>2</td>\n",
       "      <td>3</td>\n",
       "      <td>4</td>\n",
       "      <td>5</td>\n",
       "      <td>12</td>\n",
       "      <td>0</td>\n",
       "      <td>0</td>\n",
       "      <td>0</td>\n",
       "      <td>0</td>\n",
       "      <td>0</td>\n",
       "      <td>2</td>\n",
       "      <td>3</td>\n",
       "      <td>4</td>\n",
       "      <td>5</td>\n",
       "      <td>12</td>\n",
       "      <td>ANZ</td>\n",
       "    </tr>\n",
       "  </tbody>\n",
       "</table>\n",
       "</div>"
      ],
      "text/plain": [
       "             # Summer  Gold  Silver  Bronze  Total  # Winter  Gold.1  \\\n",
       "Afghanistan        13     0       0       2      2         0       0   \n",
       "Algeria            12     5       2       8     15         3       0   \n",
       "Argentina          23    18      24      28     70        18       0   \n",
       "Armenia             5     1       2       9     12         6       0   \n",
       "Australasia         2     3       4       5     12         0       0   \n",
       "\n",
       "             Silver.1  Bronze.1  Total.1  # Games  Gold.2  Silver.2  Bronze.2  \\\n",
       "Afghanistan         0         0        0       13       0         0         2   \n",
       "Algeria             0         0        0       15       5         2         8   \n",
       "Argentina           0         0        0       41      18        24        28   \n",
       "Armenia             0         0        0       11       1         2         9   \n",
       "Australasia         0         0        0        2       3         4         5   \n",
       "\n",
       "             Combined total   ID  \n",
       "Afghanistan               2  AFG  \n",
       "Algeria                  15  ALG  \n",
       "Argentina                70  ARG  \n",
       "Armenia                  12  ARM  \n",
       "Australasia              12  ANZ  "
      ]
     },
     "execution_count": 2,
     "metadata": {},
     "output_type": "execute_result"
    }
   ],
   "source": [
    "import pandas as pd\n",
    "\n",
    "df = pd.read_csv('olympics.csv', index_col=0, skiprows=1)\n",
    "\n",
    "for col in df.columns:\n",
    "    if col[:2]=='01':\n",
    "        df.rename(columns={col:'Gold'+col[4:]}, inplace=True)\n",
    "    if col[:2]=='02':\n",
    "        df.rename(columns={col:'Silver'+col[4:]}, inplace=True)\n",
    "    if col[:2]=='03':\n",
    "        df.rename(columns={col:'Bronze'+col[4:]}, inplace=True)\n",
    "    if col[:1]=='№':\n",
    "        df.rename(columns={col:'#'+col[1:]}, inplace=True)\n",
    "\n",
    "names_ids = df.index.str.split('\\s\\(') # split the index by '('\n",
    "\n",
    "df.index = names_ids.str[0] # the [0] element is the country name (new index)\n",
    "df['ID'] = names_ids.str[1].str[:3] # the [1] element is the abbreviation or ID (take first 3 characters from that)\n",
    "\n",
    "df = df.drop('Totals')\n",
    "df.head()"
   ]
  },
  {
   "cell_type": "markdown",
   "metadata": {
    "id": "a_LAQ-b4MN9m"
   },
   "source": [
    "### Pregunta 8 (Ejemplo) (0.25 puntos)\n",
    "\n",
    "¿Cuál es el primer país en df?\n",
    "\n",
    "*Esta función debería devolver una Serie.*"
   ]
  },
  {
   "cell_type": "code",
   "execution_count": null,
   "metadata": {
    "colab": {
     "base_uri": "https://localhost:8080/"
    },
    "id": "YILd3DE6cleY",
    "nbgrader": {
     "grade": false,
     "locked": false,
     "solution": false
    },
    "outputId": "2a7b24d9-1469-44e5-e364-7d12d817fd7a"
   },
   "outputs": [
    {
     "data": {
      "text/plain": [
       "135"
      ]
     },
     "execution_count": 4,
     "metadata": {},
     "output_type": "execute_result"
    }
   ],
   "source": [
    "def answer_one():\n",
    "\n",
    "    # YOUR CODE HERE\n",
    "    raise NotImplementedError()\n",
    "answer_one()"
   ]
  },
  {
   "cell_type": "markdown",
   "metadata": {
    "id": "_LidCjxaMN9m"
   },
   "source": [
    "### Pregunta 9 (0.25 puntos)\n",
    "¿Qué país tiene la mayor diferencia entre sus medallas de oro de verano y de invierno?\n",
    "\n",
    "*Esta función debe devolver un único string.*"
   ]
  },
  {
   "cell_type": "code",
   "execution_count": null,
   "metadata": {
    "colab": {
     "base_uri": "https://localhost:8080/"
    },
    "id": "ywcij6O9cleY",
    "outputId": "1a79190e-dbc7-4f67-b6eb-9509f2093d31"
   },
   "outputs": [
    {
     "data": {
      "text/plain": [
       "135"
      ]
     },
     "execution_count": 5,
     "metadata": {},
     "output_type": "execute_result"
    }
   ],
   "source": [
    "def answer_two():\n",
    "    # YOUR CODE HERE\n",
    "    raise NotImplementedError()\n",
    "answer_two()"
   ]
  },
  {
   "cell_type": "markdown",
   "metadata": {
    "id": "yt7Lw5HYMN9m"
   },
   "source": [
    "### Pregunta 10 (0.25 puntos)\n",
    "¿Qué país tiene la mayor diferencia entre el número de medallas de oro de verano y el número de medallas de oro de invierno en relación con el número total de medallas de oro?\n",
    "\n",
    "$$\\frac{Summer~Gold - Winter~Gold}{Total~Gold}$$\n",
    "\n",
    "Sólo se incluyen los países que han ganado al menos 1 medalla de oro tanto en verano como en invierno.\n",
    "\n",
    "*Esta función debe devolver un único string.*"
   ]
  },
  {
   "cell_type": "code",
   "execution_count": null,
   "metadata": {
    "colab": {
     "base_uri": "https://localhost:8080/"
    },
    "id": "xeW53ZtCcleZ",
    "outputId": "43bbc09e-324b-4bdf-d6ad-21d645f6cf8d"
   },
   "outputs": [
    {
     "data": {
      "text/plain": [
       "4"
      ]
     },
     "execution_count": 6,
     "metadata": {},
     "output_type": "execute_result"
    }
   ],
   "source": [
    "def answer_three():\n",
    "    # YOUR CODE HERE\n",
    "    raise NotImplementedError()\n",
    "answer_three()"
   ]
  },
  {
   "cell_type": "markdown",
   "metadata": {
    "id": "yiz4drdrMN9m"
   },
   "source": [
    "### Pregunta 11 (0.25 puntos)\n",
    "Escriba una función que actualice el dataframe para incluir una nueva columna llamada \" Points \" que es un valor ponderado donde cada medalla de oro cuenta por 3 puntos, las de plata por 2 puntos y las de bronce por 1 punto. La función debe devolver sólo la columna (un objeto Serie) que ha creado.\n",
    "\n",
    "*Esta función debe devolver una Serie llamada `Points` de longitud 146*"
   ]
  },
  {
   "cell_type": "code",
   "execution_count": null,
   "metadata": {
    "colab": {
     "base_uri": "https://localhost:8080/"
    },
    "id": "xJFvVKkscleZ",
    "outputId": "0b954cb9-564a-4a35-ff92-ffef94e5214c"
   },
   "outputs": [
    {
     "data": {
      "text/plain": [
       "Afghanistan                           2\n",
       "Algeria                              27\n",
       "Argentina                           130\n",
       "Armenia                              16\n",
       "Australasia                          22\n",
       "                                   ... \n",
       "Yugoslavia                          171\n",
       "Independent Olympic Participants      4\n",
       "Zambia                                3\n",
       "Zimbabwe                             18\n",
       "Mixed team                           38\n",
       "Name: Points, Length: 146, dtype: int64"
      ]
     },
     "execution_count": 7,
     "metadata": {},
     "output_type": "execute_result"
    }
   ],
   "source": [
    "def answer_four():\n",
    "    # YOUR CODE HERE\n",
    "    raise NotImplementedError()\n",
    "answer_four()"
   ]
  },
  {
   "cell_type": "markdown",
   "metadata": {
    "id": "IMCC_TAoMN9p"
   },
   "source": [
    "## Parte 2\n",
    "Para la siguiente serie de preguntas, utilizaremos los datos del censo de la [Oficina del Censo de Estados Unidos](https://www2.census.gov/programs-surveys/popest/technical-documentation/file-layouts/2010-2015/). Los condados son subdivisiones políticas y geográficas de los estados de Estados Unidos. Este conjunto de datos contiene datos de población de condados y estados de EE.UU. de 2010 a 2015. [Consulte este documento](https://www2.census.gov/programs-surveys/popest/technical-documentation/file-layouts/2010-2015/co-est2015-alldata.pdf) para obtener una descripción de los nombres de las variables.\n",
    "\n",
    "El  dataset del censo (census.csv) debe cargarse como census_df. Responda a las preguntas utilizando esto según corresponda.\n",
    "\n",
    "### Pregunta 12 (0.5 puntos)\n",
    "¿Qué estado tiene más condados? (pista: ¡considere el uso de la clave sumlevel! También la necesitará para futuras preguntas...)\n",
    "\n",
    "*Esta función debe devolver un único string*"
   ]
  },
  {
   "cell_type": "code",
   "execution_count": null,
   "metadata": {
    "colab": {
     "base_uri": "https://localhost:8080/",
     "height": 325
    },
    "id": "ChiIoTYqcleZ",
    "outputId": "68816a8c-1556-4a1f-97a8-7bc564f20be8"
   },
   "outputs": [
    {
     "data": {
      "text/html": [
       "<div>\n",
       "<style scoped>\n",
       "    .dataframe tbody tr th:only-of-type {\n",
       "        vertical-align: middle;\n",
       "    }\n",
       "\n",
       "    .dataframe tbody tr th {\n",
       "        vertical-align: top;\n",
       "    }\n",
       "\n",
       "    .dataframe thead th {\n",
       "        text-align: right;\n",
       "    }\n",
       "</style>\n",
       "<table border=\"1\" class=\"dataframe\">\n",
       "  <thead>\n",
       "    <tr style=\"text-align: right;\">\n",
       "      <th></th>\n",
       "      <th>SUMLEV</th>\n",
       "      <th>REGION</th>\n",
       "      <th>DIVISION</th>\n",
       "      <th>STATE</th>\n",
       "      <th>COUNTY</th>\n",
       "      <th>STNAME</th>\n",
       "      <th>CTYNAME</th>\n",
       "      <th>CENSUS2010POP</th>\n",
       "      <th>ESTIMATESBASE2010</th>\n",
       "      <th>POPESTIMATE2010</th>\n",
       "      <th>...</th>\n",
       "      <th>RDOMESTICMIG2011</th>\n",
       "      <th>RDOMESTICMIG2012</th>\n",
       "      <th>RDOMESTICMIG2013</th>\n",
       "      <th>RDOMESTICMIG2014</th>\n",
       "      <th>RDOMESTICMIG2015</th>\n",
       "      <th>RNETMIG2011</th>\n",
       "      <th>RNETMIG2012</th>\n",
       "      <th>RNETMIG2013</th>\n",
       "      <th>RNETMIG2014</th>\n",
       "      <th>RNETMIG2015</th>\n",
       "    </tr>\n",
       "  </thead>\n",
       "  <tbody>\n",
       "    <tr>\n",
       "      <th>0</th>\n",
       "      <td>40</td>\n",
       "      <td>3</td>\n",
       "      <td>6</td>\n",
       "      <td>1</td>\n",
       "      <td>0</td>\n",
       "      <td>Alabama</td>\n",
       "      <td>Alabama</td>\n",
       "      <td>4779736</td>\n",
       "      <td>4780127</td>\n",
       "      <td>4785161</td>\n",
       "      <td>...</td>\n",
       "      <td>0.002295</td>\n",
       "      <td>-0.193196</td>\n",
       "      <td>0.381066</td>\n",
       "      <td>0.582002</td>\n",
       "      <td>-0.467369</td>\n",
       "      <td>1.030015</td>\n",
       "      <td>0.826644</td>\n",
       "      <td>1.383282</td>\n",
       "      <td>1.724718</td>\n",
       "      <td>0.712594</td>\n",
       "    </tr>\n",
       "    <tr>\n",
       "      <th>1</th>\n",
       "      <td>50</td>\n",
       "      <td>3</td>\n",
       "      <td>6</td>\n",
       "      <td>1</td>\n",
       "      <td>1</td>\n",
       "      <td>Alabama</td>\n",
       "      <td>Autauga County</td>\n",
       "      <td>54571</td>\n",
       "      <td>54571</td>\n",
       "      <td>54660</td>\n",
       "      <td>...</td>\n",
       "      <td>7.242091</td>\n",
       "      <td>-2.915927</td>\n",
       "      <td>-3.012349</td>\n",
       "      <td>2.265971</td>\n",
       "      <td>-2.530799</td>\n",
       "      <td>7.606016</td>\n",
       "      <td>-2.626146</td>\n",
       "      <td>-2.722002</td>\n",
       "      <td>2.592270</td>\n",
       "      <td>-2.187333</td>\n",
       "    </tr>\n",
       "    <tr>\n",
       "      <th>2</th>\n",
       "      <td>50</td>\n",
       "      <td>3</td>\n",
       "      <td>6</td>\n",
       "      <td>1</td>\n",
       "      <td>3</td>\n",
       "      <td>Alabama</td>\n",
       "      <td>Baldwin County</td>\n",
       "      <td>182265</td>\n",
       "      <td>182265</td>\n",
       "      <td>183193</td>\n",
       "      <td>...</td>\n",
       "      <td>14.832960</td>\n",
       "      <td>17.647293</td>\n",
       "      <td>21.845705</td>\n",
       "      <td>19.243287</td>\n",
       "      <td>17.197872</td>\n",
       "      <td>15.844176</td>\n",
       "      <td>18.559627</td>\n",
       "      <td>22.727626</td>\n",
       "      <td>20.317142</td>\n",
       "      <td>18.293499</td>\n",
       "    </tr>\n",
       "    <tr>\n",
       "      <th>3</th>\n",
       "      <td>50</td>\n",
       "      <td>3</td>\n",
       "      <td>6</td>\n",
       "      <td>1</td>\n",
       "      <td>5</td>\n",
       "      <td>Alabama</td>\n",
       "      <td>Barbour County</td>\n",
       "      <td>27457</td>\n",
       "      <td>27457</td>\n",
       "      <td>27341</td>\n",
       "      <td>...</td>\n",
       "      <td>-4.728132</td>\n",
       "      <td>-2.500690</td>\n",
       "      <td>-7.056824</td>\n",
       "      <td>-3.904217</td>\n",
       "      <td>-10.543299</td>\n",
       "      <td>-4.874741</td>\n",
       "      <td>-2.758113</td>\n",
       "      <td>-7.167664</td>\n",
       "      <td>-3.978583</td>\n",
       "      <td>-10.543299</td>\n",
       "    </tr>\n",
       "    <tr>\n",
       "      <th>4</th>\n",
       "      <td>50</td>\n",
       "      <td>3</td>\n",
       "      <td>6</td>\n",
       "      <td>1</td>\n",
       "      <td>7</td>\n",
       "      <td>Alabama</td>\n",
       "      <td>Bibb County</td>\n",
       "      <td>22915</td>\n",
       "      <td>22919</td>\n",
       "      <td>22861</td>\n",
       "      <td>...</td>\n",
       "      <td>-5.527043</td>\n",
       "      <td>-5.068871</td>\n",
       "      <td>-6.201001</td>\n",
       "      <td>-0.177537</td>\n",
       "      <td>0.177258</td>\n",
       "      <td>-5.088389</td>\n",
       "      <td>-4.363636</td>\n",
       "      <td>-5.403729</td>\n",
       "      <td>0.754533</td>\n",
       "      <td>1.107861</td>\n",
       "    </tr>\n",
       "  </tbody>\n",
       "</table>\n",
       "<p>5 rows × 100 columns</p>\n",
       "</div>"
      ],
      "text/plain": [
       "   SUMLEV  REGION  DIVISION  STATE  COUNTY   STNAME         CTYNAME  \\\n",
       "0      40       3         6      1       0  Alabama         Alabama   \n",
       "1      50       3         6      1       1  Alabama  Autauga County   \n",
       "2      50       3         6      1       3  Alabama  Baldwin County   \n",
       "3      50       3         6      1       5  Alabama  Barbour County   \n",
       "4      50       3         6      1       7  Alabama     Bibb County   \n",
       "\n",
       "   CENSUS2010POP  ESTIMATESBASE2010  POPESTIMATE2010  ...  RDOMESTICMIG2011  \\\n",
       "0        4779736            4780127          4785161  ...          0.002295   \n",
       "1          54571              54571            54660  ...          7.242091   \n",
       "2         182265             182265           183193  ...         14.832960   \n",
       "3          27457              27457            27341  ...         -4.728132   \n",
       "4          22915              22919            22861  ...         -5.527043   \n",
       "\n",
       "   RDOMESTICMIG2012  RDOMESTICMIG2013  RDOMESTICMIG2014  RDOMESTICMIG2015  \\\n",
       "0         -0.193196          0.381066          0.582002         -0.467369   \n",
       "1         -2.915927         -3.012349          2.265971         -2.530799   \n",
       "2         17.647293         21.845705         19.243287         17.197872   \n",
       "3         -2.500690         -7.056824         -3.904217        -10.543299   \n",
       "4         -5.068871         -6.201001         -0.177537          0.177258   \n",
       "\n",
       "   RNETMIG2011  RNETMIG2012  RNETMIG2013  RNETMIG2014  RNETMIG2015  \n",
       "0     1.030015     0.826644     1.383282     1.724718     0.712594  \n",
       "1     7.606016    -2.626146    -2.722002     2.592270    -2.187333  \n",
       "2    15.844176    18.559627    22.727626    20.317142    18.293499  \n",
       "3    -4.874741    -2.758113    -7.167664    -3.978583   -10.543299  \n",
       "4    -5.088389    -4.363636    -5.403729     0.754533     1.107861  \n",
       "\n",
       "[5 rows x 100 columns]"
      ]
     },
     "execution_count": 4,
     "metadata": {},
     "output_type": "execute_result"
    }
   ],
   "source": [
    "census_df = pd.read_csv('census.csv')\n",
    "census_df.head()"
   ]
  },
  {
   "cell_type": "code",
   "execution_count": null,
   "metadata": {
    "id": "NuqcZpPSMN9p"
   },
   "outputs": [],
   "source": [
    "def answer_five():\n",
    "    # YOUR CODE HERE\n",
    "    raise NotImplementedError()\n",
    "answer_five()"
   ]
  },
  {
   "cell_type": "markdown",
   "metadata": {
    "id": "Gd3GPCWAMN9q"
   },
   "source": [
    "### Pregunta 13 (0.5 puntos)\n",
    "Teniendo en cuenta sólo los tres condados más poblados de cada estado, ¿cuáles son los tres estados más poblados (en orden de mayor a menor población)?\n",
    "\n",
    "*Esta función debe devolver una lista de strings.*"
   ]
  },
  {
   "cell_type": "code",
   "execution_count": null,
   "metadata": {
    "colab": {
     "base_uri": "https://localhost:8080/"
    },
    "id": "zGpqG6iQcleZ",
    "outputId": "4a736182-c904-4d2d-e1ed-5092edeabe32"
   },
   "outputs": [
    {
     "data": {
      "text/plain": [
       "['California', 'Texas', 'Illinois']"
      ]
     },
     "execution_count": 12,
     "metadata": {},
     "output_type": "execute_result"
    }
   ],
   "source": [
    "def answer_six():\n",
    "    # YOUR CODE HERE\n",
    "    raise NotImplementedError()\n",
    "answer_six()"
   ]
  },
  {
   "cell_type": "markdown",
   "metadata": {
    "id": "BjJis-7xMN9q"
   },
   "source": [
    "### Pregunta 14 (0.5 puntos)\n",
    "¿Qué condado ha tenido el mayor cambio de población en el periodo de cinco años (pista: los valores de población se almacenan en las columnas POPESTIMATE2010 a POPESTIMATE2015, debe tener en cuenta las cinco columnas)?\n",
    "\n",
    "*Esta función debe devolver un único string."
   ]
  },
  {
   "cell_type": "code",
   "execution_count": null,
   "metadata": {
    "colab": {
     "base_uri": "https://localhost:8080/",
     "height": 35
    },
    "id": "zYx7Duy_clea",
    "outputId": "54c80d66-917b-4be0-cc8e-9df79e24c5e0"
   },
   "outputs": [
    {
     "data": {
      "application/vnd.google.colaboratory.intrinsic+json": {
       "type": "string"
      },
      "text/plain": [
       "'Dallas County'"
      ]
     },
     "execution_count": 13,
     "metadata": {},
     "output_type": "execute_result"
    }
   ],
   "source": [
    "def answer_seven():\n",
    "    # YOUR CODE HERE\n",
    "    raise NotImplementedError()\n",
    "answer_seven()"
   ]
  },
  {
   "cell_type": "markdown",
   "metadata": {
    "id": "BVan39AIMN9q"
   },
   "source": [
    "### Pregunta 15 (0.5 puntos)\n",
    "En este archivo de datos, Estados Unidos se divide en cuatro regiones mediante la columna \"REGIÓN\".\n",
    "\n",
    "Cree una consulta que encuentre los condados que pertenecen a las regiones 1 ó 2, cuyo nombre empiece por \"Washington\" y cuyo POPESTIMATE2015 sea mayor que su POPESTIMATE 2014.\n",
    "\n",
    "*Esta función debe devolver un DataFrame de 5x2 con las columnas = ['STNAME', 'CTYNAME'] y el mismo index  ID que census_df (ordenado ascendentemente por index).*"
   ]
  },
  {
   "cell_type": "code",
   "execution_count": null,
   "metadata": {
    "colab": {
     "base_uri": "https://localhost:8080/",
     "height": 206
    },
    "id": "sqZqtT6Gclea",
    "outputId": "d61b708f-f0df-4850-c03b-546b73623036"
   },
   "outputs": [
    {
     "data": {
      "application/vnd.google.colaboratory.intrinsic+json": {
       "summary": "{\n  \"name\": \"answer_eight()\",\n  \"rows\": 5,\n  \"fields\": [\n    {\n      \"column\": \"STNAME\",\n      \"properties\": {\n        \"dtype\": \"string\",\n        \"num_unique_values\": 5,\n        \"samples\": [\n          \"Minnesota\",\n          \"Wisconsin\",\n          \"Pennsylvania\"\n        ],\n        \"semantic_type\": \"\",\n        \"description\": \"\"\n      }\n    },\n    {\n      \"column\": \"CTYNAME\",\n      \"properties\": {\n        \"dtype\": \"category\",\n        \"num_unique_values\": 1,\n        \"samples\": [\n          \"Washington County\"\n        ],\n        \"semantic_type\": \"\",\n        \"description\": \"\"\n      }\n    }\n  ]\n}",
       "type": "dataframe"
      },
      "text/html": [
       "\n",
       "  <div id=\"df-2b36d3d4-cb5e-4229-a1ab-55281d1db134\" class=\"colab-df-container\">\n",
       "    <div>\n",
       "<style scoped>\n",
       "    .dataframe tbody tr th:only-of-type {\n",
       "        vertical-align: middle;\n",
       "    }\n",
       "\n",
       "    .dataframe tbody tr th {\n",
       "        vertical-align: top;\n",
       "    }\n",
       "\n",
       "    .dataframe thead th {\n",
       "        text-align: right;\n",
       "    }\n",
       "</style>\n",
       "<table border=\"1\" class=\"dataframe\">\n",
       "  <thead>\n",
       "    <tr style=\"text-align: right;\">\n",
       "      <th></th>\n",
       "      <th>STNAME</th>\n",
       "      <th>CTYNAME</th>\n",
       "    </tr>\n",
       "  </thead>\n",
       "  <tbody>\n",
       "    <tr>\n",
       "      <th>896</th>\n",
       "      <td>Iowa</td>\n",
       "      <td>Washington County</td>\n",
       "    </tr>\n",
       "    <tr>\n",
       "      <th>1419</th>\n",
       "      <td>Minnesota</td>\n",
       "      <td>Washington County</td>\n",
       "    </tr>\n",
       "    <tr>\n",
       "      <th>2345</th>\n",
       "      <td>Pennsylvania</td>\n",
       "      <td>Washington County</td>\n",
       "    </tr>\n",
       "    <tr>\n",
       "      <th>2355</th>\n",
       "      <td>Rhode Island</td>\n",
       "      <td>Washington County</td>\n",
       "    </tr>\n",
       "    <tr>\n",
       "      <th>3163</th>\n",
       "      <td>Wisconsin</td>\n",
       "      <td>Washington County</td>\n",
       "    </tr>\n",
       "  </tbody>\n",
       "</table>\n",
       "</div>\n",
       "    <div class=\"colab-df-buttons\">\n",
       "\n",
       "  <div class=\"colab-df-container\">\n",
       "    <button class=\"colab-df-convert\" onclick=\"convertToInteractive('df-2b36d3d4-cb5e-4229-a1ab-55281d1db134')\"\n",
       "            title=\"Convert this dataframe to an interactive table.\"\n",
       "            style=\"display:none;\">\n",
       "\n",
       "  <svg xmlns=\"http://www.w3.org/2000/svg\" height=\"24px\" viewBox=\"0 -960 960 960\">\n",
       "    <path d=\"M120-120v-720h720v720H120Zm60-500h600v-160H180v160Zm220 220h160v-160H400v160Zm0 220h160v-160H400v160ZM180-400h160v-160H180v160Zm440 0h160v-160H620v160ZM180-180h160v-160H180v160Zm440 0h160v-160H620v160Z\"/>\n",
       "  </svg>\n",
       "    </button>\n",
       "\n",
       "  <style>\n",
       "    .colab-df-container {\n",
       "      display:flex;\n",
       "      gap: 12px;\n",
       "    }\n",
       "\n",
       "    .colab-df-convert {\n",
       "      background-color: #E8F0FE;\n",
       "      border: none;\n",
       "      border-radius: 50%;\n",
       "      cursor: pointer;\n",
       "      display: none;\n",
       "      fill: #1967D2;\n",
       "      height: 32px;\n",
       "      padding: 0 0 0 0;\n",
       "      width: 32px;\n",
       "    }\n",
       "\n",
       "    .colab-df-convert:hover {\n",
       "      background-color: #E2EBFA;\n",
       "      box-shadow: 0px 1px 2px rgba(60, 64, 67, 0.3), 0px 1px 3px 1px rgba(60, 64, 67, 0.15);\n",
       "      fill: #174EA6;\n",
       "    }\n",
       "\n",
       "    .colab-df-buttons div {\n",
       "      margin-bottom: 4px;\n",
       "    }\n",
       "\n",
       "    [theme=dark] .colab-df-convert {\n",
       "      background-color: #3B4455;\n",
       "      fill: #D2E3FC;\n",
       "    }\n",
       "\n",
       "    [theme=dark] .colab-df-convert:hover {\n",
       "      background-color: #434B5C;\n",
       "      box-shadow: 0px 1px 3px 1px rgba(0, 0, 0, 0.15);\n",
       "      filter: drop-shadow(0px 1px 2px rgba(0, 0, 0, 0.3));\n",
       "      fill: #FFFFFF;\n",
       "    }\n",
       "  </style>\n",
       "\n",
       "    <script>\n",
       "      const buttonEl =\n",
       "        document.querySelector('#df-2b36d3d4-cb5e-4229-a1ab-55281d1db134 button.colab-df-convert');\n",
       "      buttonEl.style.display =\n",
       "        google.colab.kernel.accessAllowed ? 'block' : 'none';\n",
       "\n",
       "      async function convertToInteractive(key) {\n",
       "        const element = document.querySelector('#df-2b36d3d4-cb5e-4229-a1ab-55281d1db134');\n",
       "        const dataTable =\n",
       "          await google.colab.kernel.invokeFunction('convertToInteractive',\n",
       "                                                    [key], {});\n",
       "        if (!dataTable) return;\n",
       "\n",
       "        const docLinkHtml = 'Like what you see? Visit the ' +\n",
       "          '<a target=\"_blank\" href=https://colab.research.google.com/notebooks/data_table.ipynb>data table notebook</a>'\n",
       "          + ' to learn more about interactive tables.';\n",
       "        element.innerHTML = '';\n",
       "        dataTable['output_type'] = 'display_data';\n",
       "        await google.colab.output.renderOutput(dataTable, element);\n",
       "        const docLink = document.createElement('div');\n",
       "        docLink.innerHTML = docLinkHtml;\n",
       "        element.appendChild(docLink);\n",
       "      }\n",
       "    </script>\n",
       "  </div>\n",
       "\n",
       "\n",
       "<div id=\"df-4df9c880-6c96-4e22-b2e0-7e01c0f06705\">\n",
       "  <button class=\"colab-df-quickchart\" onclick=\"quickchart('df-4df9c880-6c96-4e22-b2e0-7e01c0f06705')\"\n",
       "            title=\"Suggest charts\"\n",
       "            style=\"display:none;\">\n",
       "\n",
       "<svg xmlns=\"http://www.w3.org/2000/svg\" height=\"24px\"viewBox=\"0 0 24 24\"\n",
       "     width=\"24px\">\n",
       "    <g>\n",
       "        <path d=\"M19 3H5c-1.1 0-2 .9-2 2v14c0 1.1.9 2 2 2h14c1.1 0 2-.9 2-2V5c0-1.1-.9-2-2-2zM9 17H7v-7h2v7zm4 0h-2V7h2v10zm4 0h-2v-4h2v4z\"/>\n",
       "    </g>\n",
       "</svg>\n",
       "  </button>\n",
       "\n",
       "<style>\n",
       "  .colab-df-quickchart {\n",
       "      --bg-color: #E8F0FE;\n",
       "      --fill-color: #1967D2;\n",
       "      --hover-bg-color: #E2EBFA;\n",
       "      --hover-fill-color: #174EA6;\n",
       "      --disabled-fill-color: #AAA;\n",
       "      --disabled-bg-color: #DDD;\n",
       "  }\n",
       "\n",
       "  [theme=dark] .colab-df-quickchart {\n",
       "      --bg-color: #3B4455;\n",
       "      --fill-color: #D2E3FC;\n",
       "      --hover-bg-color: #434B5C;\n",
       "      --hover-fill-color: #FFFFFF;\n",
       "      --disabled-bg-color: #3B4455;\n",
       "      --disabled-fill-color: #666;\n",
       "  }\n",
       "\n",
       "  .colab-df-quickchart {\n",
       "    background-color: var(--bg-color);\n",
       "    border: none;\n",
       "    border-radius: 50%;\n",
       "    cursor: pointer;\n",
       "    display: none;\n",
       "    fill: var(--fill-color);\n",
       "    height: 32px;\n",
       "    padding: 0;\n",
       "    width: 32px;\n",
       "  }\n",
       "\n",
       "  .colab-df-quickchart:hover {\n",
       "    background-color: var(--hover-bg-color);\n",
       "    box-shadow: 0 1px 2px rgba(60, 64, 67, 0.3), 0 1px 3px 1px rgba(60, 64, 67, 0.15);\n",
       "    fill: var(--button-hover-fill-color);\n",
       "  }\n",
       "\n",
       "  .colab-df-quickchart-complete:disabled,\n",
       "  .colab-df-quickchart-complete:disabled:hover {\n",
       "    background-color: var(--disabled-bg-color);\n",
       "    fill: var(--disabled-fill-color);\n",
       "    box-shadow: none;\n",
       "  }\n",
       "\n",
       "  .colab-df-spinner {\n",
       "    border: 2px solid var(--fill-color);\n",
       "    border-color: transparent;\n",
       "    border-bottom-color: var(--fill-color);\n",
       "    animation:\n",
       "      spin 1s steps(1) infinite;\n",
       "  }\n",
       "\n",
       "  @keyframes spin {\n",
       "    0% {\n",
       "      border-color: transparent;\n",
       "      border-bottom-color: var(--fill-color);\n",
       "      border-left-color: var(--fill-color);\n",
       "    }\n",
       "    20% {\n",
       "      border-color: transparent;\n",
       "      border-left-color: var(--fill-color);\n",
       "      border-top-color: var(--fill-color);\n",
       "    }\n",
       "    30% {\n",
       "      border-color: transparent;\n",
       "      border-left-color: var(--fill-color);\n",
       "      border-top-color: var(--fill-color);\n",
       "      border-right-color: var(--fill-color);\n",
       "    }\n",
       "    40% {\n",
       "      border-color: transparent;\n",
       "      border-right-color: var(--fill-color);\n",
       "      border-top-color: var(--fill-color);\n",
       "    }\n",
       "    60% {\n",
       "      border-color: transparent;\n",
       "      border-right-color: var(--fill-color);\n",
       "    }\n",
       "    80% {\n",
       "      border-color: transparent;\n",
       "      border-right-color: var(--fill-color);\n",
       "      border-bottom-color: var(--fill-color);\n",
       "    }\n",
       "    90% {\n",
       "      border-color: transparent;\n",
       "      border-bottom-color: var(--fill-color);\n",
       "    }\n",
       "  }\n",
       "</style>\n",
       "\n",
       "  <script>\n",
       "    async function quickchart(key) {\n",
       "      const quickchartButtonEl =\n",
       "        document.querySelector('#' + key + ' button');\n",
       "      quickchartButtonEl.disabled = true;  // To prevent multiple clicks.\n",
       "      quickchartButtonEl.classList.add('colab-df-spinner');\n",
       "      try {\n",
       "        const charts = await google.colab.kernel.invokeFunction(\n",
       "            'suggestCharts', [key], {});\n",
       "      } catch (error) {\n",
       "        console.error('Error during call to suggestCharts:', error);\n",
       "      }\n",
       "      quickchartButtonEl.classList.remove('colab-df-spinner');\n",
       "      quickchartButtonEl.classList.add('colab-df-quickchart-complete');\n",
       "    }\n",
       "    (() => {\n",
       "      let quickchartButtonEl =\n",
       "        document.querySelector('#df-4df9c880-6c96-4e22-b2e0-7e01c0f06705 button');\n",
       "      quickchartButtonEl.style.display =\n",
       "        google.colab.kernel.accessAllowed ? 'block' : 'none';\n",
       "    })();\n",
       "  </script>\n",
       "</div>\n",
       "\n",
       "    </div>\n",
       "  </div>\n"
      ],
      "text/plain": [
       "            STNAME            CTYNAME\n",
       "896           Iowa  Washington County\n",
       "1419     Minnesota  Washington County\n",
       "2345  Pennsylvania  Washington County\n",
       "2355  Rhode Island  Washington County\n",
       "3163     Wisconsin  Washington County"
      ]
     },
     "execution_count": 14,
     "metadata": {},
     "output_type": "execute_result"
    }
   ],
   "source": [
    "def answer_eight():\n",
    "    # YOUR CODE HERE\n",
    "    raise NotImplementedError()\n",
    "answer_eight()"
   ]
  },
  {
   "cell_type": "markdown",
   "metadata": {
    "id": "G6Z4JaVwMN9q"
   },
   "source": [
    "# 3. Programación Orientada a objetos (overview)"
   ]
  },
  {
   "cell_type": "markdown",
   "metadata": {
    "id": "HiEpGwiTMN9q"
   },
   "source": [
    "### Pregunta 16 (1.25 puntos)\n",
    "\n",
    "Cree un programa para administrar pedidos en un restaurante. El programa debe contar con\n",
    "los siguientes elementos:\n",
    "\n",
    "* La clase `PlatoDeComida`, representa la comida ordenada por los clientes. Sólo tiene el campo `nombre`, una cadena de\n",
    "  caracteres proveída por el usuario de la clase.\n",
    "\n",
    "* La clase `Mesero`, representa al personal que atiende las mesas. Tiene el campo `nombre`, una cadena de caracteres\n",
    "  proveída por el usuario de la clase.\n",
    "    * Además, tiene el método `tomar_orden` que tiene como parámetro la cadena de caracteres `nombre_plato`. Este método\n",
    "      retorna una instancia de\n",
    "      `PlatoDeComida` con el nombre `nombre_plato`.\n",
    "\n",
    "* La clase `Cliente` representa a los clientes del restaurante. Tiene dos campos: `plato` es una instancia de\n",
    "  `PlatoDeComida` e inicialmente tiene el valor de `None`; y `numero_mesa`, un número entero proveído por el usuario de\n",
    "  la clase.\n",
    "    * Además, tiene el método `hacer_pedido` que tiene como parámetro la cadena de caracteres `nombre_plato` y `mesero`,\n",
    "      una instancia de `Mesero`. En este método, se le asigna al campo `plato` el resultado de invocar `tomar_orden`\n",
    "      en `mesero`.\n",
    "\n",
    "    * El método `obtener_nombre_plato` retorna una cadena de caracteres, correspondiente al nombre del plato que el\n",
    "      cliente ha ordenado.\n",
    "\n",
    "* La clase `Pedido` representa un pedido hecho por un cliente en el restaurante. Tiene dos campos:\n",
    "  `cliente` es una instancia de `Cliente` y `mesero` es una instancia de `Mesero`. El número de mesa de `cliente` y el\n",
    "  nombre de `mesero ` son proveídos por el usuario de la clase.\n",
    "    * Además, tiene el método `ordenar` con el parámetro `plato`, una cadena de caracteres representando el nombre del\n",
    "      plato ordenado por el cliente. En este método, se invoca al método `hacer_pedido` de la instancia en el\n",
    "      campo `cliente`.\n",
    "    * Al invocar `print` sobre instancias de `Pedido`, se debe mostrar el número de mesa, el nombre del mesero, y el\n",
    "      plato ordenado por el cliente (mediante el método `obtener_nombre_plato`).\n",
    "\n",
    "* La función `atender_mesa` permite registrar múltiples pedidos por mesa. Recibe como parámetros el número de mesa, el\n",
    "  nombre del mesero y una lista de cadenas de caracteres, con los platos a ordenar en la mesa. Esta función retorna una\n",
    "  lista de instancias de `Almuerzo`. Por ejemplo, el siguiente código:\n",
    "\n",
    "  ```python\n",
    "    comida_mesa_siete = [\"cebiche\", \"sudado\", \"arroz con leche\"]\n",
    "    almuerzos = atender_mesa(7, \"Tomas\", comida_mesa_siete)\n",
    "\n",
    "    for almuerzo in almuerzos:\n",
    "        print(almuerzo)\n",
    "   ```\n",
    "\n",
    "  Muestra lo siguiente en consola:\n",
    "\n",
    "    ```commandline\n",
    "    El cliente de la mesa 7 ordeno cebiche y fue atendido por Tomas\n",
    "    El cliente de la mesa 7 ordeno sudado y fue atendido por Tomas\n",
    "    El cliente de la mesa 7 ordeno arroz con leche y fue atendido por Tomas\n",
    "    ```"
   ]
  },
  {
   "cell_type": "code",
   "execution_count": null,
   "metadata": {
    "id": "uQVVHdLiMN9q"
   },
   "outputs": [],
   "source": [
    "class Pedido(object):\n",
    "    def __init__(self, numero_mesa, nombre_mesero):\n",
    "\n",
    "\n",
    "    def ordenar(self, plato):\n",
    "       return\n",
    "\n",
    "\n",
    "class Cliente(object):\n",
    "\n",
    "    def __init__(self, numero_mesa):\n",
    "\n",
    "    def hacer_pedido(self, nombre_plato, mesero):\n",
    "\n",
    "    def obtener_nombre_plato(self):\n",
    "\n",
    "\n",
    "\n",
    "class Mesero(object):\n",
    "\n",
    "    def __init__(self, nombre):\n",
    "\n",
    "\n",
    "    def tomar_orden(self, nombre_plato):\n",
    "        return\n",
    "\n",
    "class PlatoDeComida(object):\n",
    "\n",
    "    def __init__(self, nombre):\n",
    "\n",
    "    def atender_mesa(numero_mesa, mesero, pedidos):\n",
    "\n",
    "\n",
    "if __name__ == \"__main__\":\n",
    "    comida_mesa_siete = [\"cebiche\", \"sudado\", \"arroz con leche\"]\n",
    "    almuerzos = atender_mesa(7, \"Tomas\", comida_mesa_siete)\n",
    "\n",
    "    for almuerzo in almuerzos:\n",
    "        print(almuerzo)\n"
   ]
  }
 ],
 "metadata": {
  "anaconda-cloud": {},
  "colab": {
   "provenance": []
  },
  "coursera": {
   "course_slug": "python-data-analysis",
   "graded_item_id": "tHmgx",
   "launcher_item_id": "Um6Bz",
   "part_id": "OQsnr"
  },
  "kernelspec": {
   "display_name": "Python 3",
   "language": "python",
   "name": "python3"
  },
  "language_info": {
   "codemirror_mode": {
    "name": "ipython",
    "version": 3
   },
   "file_extension": ".py",
   "mimetype": "text/x-python",
   "name": "python",
   "nbconvert_exporter": "python",
   "pygments_lexer": "ipython3",
   "version": "3.8.10"
  }
 },
 "nbformat": 4,
 "nbformat_minor": 0
}
